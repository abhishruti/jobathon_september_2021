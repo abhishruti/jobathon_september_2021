{
  "nbformat": 4,
  "nbformat_minor": 0,
  "metadata": {
    "colab": {
      "name": "JOB-A-THON_solution_score_238.ipynb",
      "provenance": [],
      "collapsed_sections": [
        "zjh0Y4KBskAa",
        "w5rdoP2fd-y7",
        "w9DaSqqWsW7l"
      ]
    },
    "kernelspec": {
      "display_name": "Python 3",
      "name": "python3"
    },
    "language_info": {
      "name": "python"
    }
  },
  "cells": [
    {
      "cell_type": "code",
      "metadata": {
        "id": "Bq3tA16lTHXM"
      },
      "source": [
        "# For math operations\n",
        "import numpy as np\n",
        "\n",
        "# For dataframe operations\n",
        "import pandas as pd\n",
        "\n",
        "# For visualization\n",
        "import matplotlib.pyplot as plt\n",
        "import seaborn as sns\n",
        "%matplotlib inline\n",
        "\n",
        "# Pre processing libraries\n",
        "from sklearn.preprocessing import MinMaxScaler, LabelEncoder\n",
        "\n",
        "# splitting the dataset\n",
        "from sklearn.model_selection import train_test_split\n",
        "\n",
        "# Boosting Algorithm\n",
        "from xgboost import XGBRegressor\n",
        "\n",
        "# Evaluation metric\n",
        "from sklearn.metrics import mean_squared_log_error\n",
        "\n",
        "\n",
        "import warnings\n",
        "warnings.filterwarnings('always')\n",
        "warnings.filterwarnings('ignore')"
      ],
      "execution_count": 150,
      "outputs": []
    },
    {
      "cell_type": "code",
      "metadata": {
        "id": "_BvKCRNxYEaT"
      },
      "source": [
        "#loading the data\n",
        "\n",
        "train = pd.read_csv('/content/TRAIN.csv')\n",
        "test = pd.read_csv('/content/TEST_FINAL.csv')"
      ],
      "execution_count": 2,
      "outputs": []
    },
    {
      "cell_type": "markdown",
      "metadata": {
        "id": "pz7UfRy0SMi2"
      },
      "source": [
        "### Exploratory Data Analysis"
      ]
    },
    {
      "cell_type": "code",
      "metadata": {
        "colab": {
          "base_uri": "https://localhost:8080/",
          "height": 0
        },
        "id": "oNXnKCpNYKeb",
        "outputId": "e7e7bb47-46a8-4506-8f29-492f6d2e8f65"
      },
      "source": [
        "#shape of training and testing data\n",
        "train.shape"
      ],
      "execution_count": 3,
      "outputs": [
        {
          "output_type": "execute_result",
          "data": {
            "text/plain": [
              "(188340, 10)"
            ]
          },
          "metadata": {},
          "execution_count": 3
        }
      ]
    },
    {
      "cell_type": "code",
      "metadata": {
        "colab": {
          "base_uri": "https://localhost:8080/",
          "height": 204
        },
        "id": "lHOrqxxzYUdd",
        "outputId": "2dfb592b-cc4e-4259-aaed-34300b8c8f66"
      },
      "source": [
        "#printing the first five rows of train dataset\n",
        "train.head()"
      ],
      "execution_count": 4,
      "outputs": [
        {
          "output_type": "execute_result",
          "data": {
            "text/html": [
              "<div>\n",
              "<style scoped>\n",
              "    .dataframe tbody tr th:only-of-type {\n",
              "        vertical-align: middle;\n",
              "    }\n",
              "\n",
              "    .dataframe tbody tr th {\n",
              "        vertical-align: top;\n",
              "    }\n",
              "\n",
              "    .dataframe thead th {\n",
              "        text-align: right;\n",
              "    }\n",
              "</style>\n",
              "<table border=\"1\" class=\"dataframe\">\n",
              "  <thead>\n",
              "    <tr style=\"text-align: right;\">\n",
              "      <th></th>\n",
              "      <th>ID</th>\n",
              "      <th>Store_id</th>\n",
              "      <th>Store_Type</th>\n",
              "      <th>Location_Type</th>\n",
              "      <th>Region_Code</th>\n",
              "      <th>Date</th>\n",
              "      <th>Holiday</th>\n",
              "      <th>Discount</th>\n",
              "      <th>#Order</th>\n",
              "      <th>Sales</th>\n",
              "    </tr>\n",
              "  </thead>\n",
              "  <tbody>\n",
              "    <tr>\n",
              "      <th>0</th>\n",
              "      <td>T1000001</td>\n",
              "      <td>1</td>\n",
              "      <td>S1</td>\n",
              "      <td>L3</td>\n",
              "      <td>R1</td>\n",
              "      <td>2018-01-01</td>\n",
              "      <td>1</td>\n",
              "      <td>Yes</td>\n",
              "      <td>9</td>\n",
              "      <td>7011.84</td>\n",
              "    </tr>\n",
              "    <tr>\n",
              "      <th>1</th>\n",
              "      <td>T1000002</td>\n",
              "      <td>253</td>\n",
              "      <td>S4</td>\n",
              "      <td>L2</td>\n",
              "      <td>R1</td>\n",
              "      <td>2018-01-01</td>\n",
              "      <td>1</td>\n",
              "      <td>Yes</td>\n",
              "      <td>60</td>\n",
              "      <td>51789.12</td>\n",
              "    </tr>\n",
              "    <tr>\n",
              "      <th>2</th>\n",
              "      <td>T1000003</td>\n",
              "      <td>252</td>\n",
              "      <td>S3</td>\n",
              "      <td>L2</td>\n",
              "      <td>R1</td>\n",
              "      <td>2018-01-01</td>\n",
              "      <td>1</td>\n",
              "      <td>Yes</td>\n",
              "      <td>42</td>\n",
              "      <td>36868.20</td>\n",
              "    </tr>\n",
              "    <tr>\n",
              "      <th>3</th>\n",
              "      <td>T1000004</td>\n",
              "      <td>251</td>\n",
              "      <td>S2</td>\n",
              "      <td>L3</td>\n",
              "      <td>R1</td>\n",
              "      <td>2018-01-01</td>\n",
              "      <td>1</td>\n",
              "      <td>Yes</td>\n",
              "      <td>23</td>\n",
              "      <td>19715.16</td>\n",
              "    </tr>\n",
              "    <tr>\n",
              "      <th>4</th>\n",
              "      <td>T1000005</td>\n",
              "      <td>250</td>\n",
              "      <td>S2</td>\n",
              "      <td>L3</td>\n",
              "      <td>R4</td>\n",
              "      <td>2018-01-01</td>\n",
              "      <td>1</td>\n",
              "      <td>Yes</td>\n",
              "      <td>62</td>\n",
              "      <td>45614.52</td>\n",
              "    </tr>\n",
              "  </tbody>\n",
              "</table>\n",
              "</div>"
            ],
            "text/plain": [
              "         ID  Store_id Store_Type  ... Discount #Order     Sales\n",
              "0  T1000001         1         S1  ...      Yes      9   7011.84\n",
              "1  T1000002       253         S4  ...      Yes     60  51789.12\n",
              "2  T1000003       252         S3  ...      Yes     42  36868.20\n",
              "3  T1000004       251         S2  ...      Yes     23  19715.16\n",
              "4  T1000005       250         S2  ...      Yes     62  45614.52\n",
              "\n",
              "[5 rows x 10 columns]"
            ]
          },
          "metadata": {},
          "execution_count": 4
        }
      ]
    },
    {
      "cell_type": "code",
      "metadata": {
        "colab": {
          "base_uri": "https://localhost:8080/",
          "height": 204
        },
        "id": "0gQc9OnTYWr3",
        "outputId": "7fdd4583-a630-4480-fc8c-985514ff6470"
      },
      "source": [
        "#printing the first five rows of train dataset\n",
        "train.tail()"
      ],
      "execution_count": 5,
      "outputs": [
        {
          "output_type": "execute_result",
          "data": {
            "text/html": [
              "<div>\n",
              "<style scoped>\n",
              "    .dataframe tbody tr th:only-of-type {\n",
              "        vertical-align: middle;\n",
              "    }\n",
              "\n",
              "    .dataframe tbody tr th {\n",
              "        vertical-align: top;\n",
              "    }\n",
              "\n",
              "    .dataframe thead th {\n",
              "        text-align: right;\n",
              "    }\n",
              "</style>\n",
              "<table border=\"1\" class=\"dataframe\">\n",
              "  <thead>\n",
              "    <tr style=\"text-align: right;\">\n",
              "      <th></th>\n",
              "      <th>ID</th>\n",
              "      <th>Store_id</th>\n",
              "      <th>Store_Type</th>\n",
              "      <th>Location_Type</th>\n",
              "      <th>Region_Code</th>\n",
              "      <th>Date</th>\n",
              "      <th>Holiday</th>\n",
              "      <th>Discount</th>\n",
              "      <th>#Order</th>\n",
              "      <th>Sales</th>\n",
              "    </tr>\n",
              "  </thead>\n",
              "  <tbody>\n",
              "    <tr>\n",
              "      <th>188335</th>\n",
              "      <td>T1188336</td>\n",
              "      <td>149</td>\n",
              "      <td>S2</td>\n",
              "      <td>L3</td>\n",
              "      <td>R2</td>\n",
              "      <td>2019-05-31</td>\n",
              "      <td>1</td>\n",
              "      <td>Yes</td>\n",
              "      <td>51</td>\n",
              "      <td>37272.00</td>\n",
              "    </tr>\n",
              "    <tr>\n",
              "      <th>188336</th>\n",
              "      <td>T1188337</td>\n",
              "      <td>153</td>\n",
              "      <td>S4</td>\n",
              "      <td>L2</td>\n",
              "      <td>R1</td>\n",
              "      <td>2019-05-31</td>\n",
              "      <td>1</td>\n",
              "      <td>No</td>\n",
              "      <td>90</td>\n",
              "      <td>54572.64</td>\n",
              "    </tr>\n",
              "    <tr>\n",
              "      <th>188337</th>\n",
              "      <td>T1188338</td>\n",
              "      <td>154</td>\n",
              "      <td>S1</td>\n",
              "      <td>L3</td>\n",
              "      <td>R2</td>\n",
              "      <td>2019-05-31</td>\n",
              "      <td>1</td>\n",
              "      <td>No</td>\n",
              "      <td>56</td>\n",
              "      <td>31624.56</td>\n",
              "    </tr>\n",
              "    <tr>\n",
              "      <th>188338</th>\n",
              "      <td>T1188339</td>\n",
              "      <td>155</td>\n",
              "      <td>S3</td>\n",
              "      <td>L1</td>\n",
              "      <td>R2</td>\n",
              "      <td>2019-05-31</td>\n",
              "      <td>1</td>\n",
              "      <td>Yes</td>\n",
              "      <td>70</td>\n",
              "      <td>49162.41</td>\n",
              "    </tr>\n",
              "    <tr>\n",
              "      <th>188339</th>\n",
              "      <td>T1188340</td>\n",
              "      <td>152</td>\n",
              "      <td>S2</td>\n",
              "      <td>L1</td>\n",
              "      <td>R1</td>\n",
              "      <td>2019-05-31</td>\n",
              "      <td>1</td>\n",
              "      <td>No</td>\n",
              "      <td>47</td>\n",
              "      <td>37977.00</td>\n",
              "    </tr>\n",
              "  </tbody>\n",
              "</table>\n",
              "</div>"
            ],
            "text/plain": [
              "              ID  Store_id Store_Type  ... Discount #Order     Sales\n",
              "188335  T1188336       149         S2  ...      Yes     51  37272.00\n",
              "188336  T1188337       153         S4  ...       No     90  54572.64\n",
              "188337  T1188338       154         S1  ...       No     56  31624.56\n",
              "188338  T1188339       155         S3  ...      Yes     70  49162.41\n",
              "188339  T1188340       152         S2  ...       No     47  37977.00\n",
              "\n",
              "[5 rows x 10 columns]"
            ]
          },
          "metadata": {},
          "execution_count": 5
        }
      ]
    },
    {
      "cell_type": "code",
      "metadata": {
        "colab": {
          "base_uri": "https://localhost:8080/",
          "height": 297
        },
        "id": "Fuj-yi3uYbhv",
        "outputId": "0505fa28-67f7-4854-b713-8853c569fe96"
      },
      "source": [
        "# description of the data\n",
        "train.describe()"
      ],
      "execution_count": 6,
      "outputs": [
        {
          "output_type": "execute_result",
          "data": {
            "text/html": [
              "<div>\n",
              "<style scoped>\n",
              "    .dataframe tbody tr th:only-of-type {\n",
              "        vertical-align: middle;\n",
              "    }\n",
              "\n",
              "    .dataframe tbody tr th {\n",
              "        vertical-align: top;\n",
              "    }\n",
              "\n",
              "    .dataframe thead th {\n",
              "        text-align: right;\n",
              "    }\n",
              "</style>\n",
              "<table border=\"1\" class=\"dataframe\">\n",
              "  <thead>\n",
              "    <tr style=\"text-align: right;\">\n",
              "      <th></th>\n",
              "      <th>Store_id</th>\n",
              "      <th>Holiday</th>\n",
              "      <th>#Order</th>\n",
              "      <th>Sales</th>\n",
              "    </tr>\n",
              "  </thead>\n",
              "  <tbody>\n",
              "    <tr>\n",
              "      <th>count</th>\n",
              "      <td>188340.000000</td>\n",
              "      <td>188340.000000</td>\n",
              "      <td>188340.000000</td>\n",
              "      <td>188340.000000</td>\n",
              "    </tr>\n",
              "    <tr>\n",
              "      <th>mean</th>\n",
              "      <td>183.000000</td>\n",
              "      <td>0.131783</td>\n",
              "      <td>68.205692</td>\n",
              "      <td>42784.327982</td>\n",
              "    </tr>\n",
              "    <tr>\n",
              "      <th>std</th>\n",
              "      <td>105.366308</td>\n",
              "      <td>0.338256</td>\n",
              "      <td>30.467415</td>\n",
              "      <td>18456.708302</td>\n",
              "    </tr>\n",
              "    <tr>\n",
              "      <th>min</th>\n",
              "      <td>1.000000</td>\n",
              "      <td>0.000000</td>\n",
              "      <td>0.000000</td>\n",
              "      <td>0.000000</td>\n",
              "    </tr>\n",
              "    <tr>\n",
              "      <th>25%</th>\n",
              "      <td>92.000000</td>\n",
              "      <td>0.000000</td>\n",
              "      <td>48.000000</td>\n",
              "      <td>30426.000000</td>\n",
              "    </tr>\n",
              "    <tr>\n",
              "      <th>50%</th>\n",
              "      <td>183.000000</td>\n",
              "      <td>0.000000</td>\n",
              "      <td>63.000000</td>\n",
              "      <td>39678.000000</td>\n",
              "    </tr>\n",
              "    <tr>\n",
              "      <th>75%</th>\n",
              "      <td>274.000000</td>\n",
              "      <td>0.000000</td>\n",
              "      <td>82.000000</td>\n",
              "      <td>51909.000000</td>\n",
              "    </tr>\n",
              "    <tr>\n",
              "      <th>max</th>\n",
              "      <td>365.000000</td>\n",
              "      <td>1.000000</td>\n",
              "      <td>371.000000</td>\n",
              "      <td>247215.000000</td>\n",
              "    </tr>\n",
              "  </tbody>\n",
              "</table>\n",
              "</div>"
            ],
            "text/plain": [
              "            Store_id        Holiday         #Order          Sales\n",
              "count  188340.000000  188340.000000  188340.000000  188340.000000\n",
              "mean      183.000000       0.131783      68.205692   42784.327982\n",
              "std       105.366308       0.338256      30.467415   18456.708302\n",
              "min         1.000000       0.000000       0.000000       0.000000\n",
              "25%        92.000000       0.000000      48.000000   30426.000000\n",
              "50%       183.000000       0.000000      63.000000   39678.000000\n",
              "75%       274.000000       0.000000      82.000000   51909.000000\n",
              "max       365.000000       1.000000     371.000000  247215.000000"
            ]
          },
          "metadata": {},
          "execution_count": 6
        }
      ]
    },
    {
      "cell_type": "markdown",
      "metadata": {
        "id": "w5rdoP2fd-y7"
      },
      "source": [
        "### Understanding the unbalance"
      ]
    },
    {
      "cell_type": "code",
      "metadata": {
        "colab": {
          "base_uri": "https://localhost:8080/",
          "height": 173
        },
        "id": "q5mJirr6eQH7",
        "outputId": "41bee27c-8baf-4da8-ada7-f925d0cd8e9a"
      },
      "source": [
        "train.head(4)"
      ],
      "execution_count": 7,
      "outputs": [
        {
          "output_type": "execute_result",
          "data": {
            "text/html": [
              "<div>\n",
              "<style scoped>\n",
              "    .dataframe tbody tr th:only-of-type {\n",
              "        vertical-align: middle;\n",
              "    }\n",
              "\n",
              "    .dataframe tbody tr th {\n",
              "        vertical-align: top;\n",
              "    }\n",
              "\n",
              "    .dataframe thead th {\n",
              "        text-align: right;\n",
              "    }\n",
              "</style>\n",
              "<table border=\"1\" class=\"dataframe\">\n",
              "  <thead>\n",
              "    <tr style=\"text-align: right;\">\n",
              "      <th></th>\n",
              "      <th>ID</th>\n",
              "      <th>Store_id</th>\n",
              "      <th>Store_Type</th>\n",
              "      <th>Location_Type</th>\n",
              "      <th>Region_Code</th>\n",
              "      <th>Date</th>\n",
              "      <th>Holiday</th>\n",
              "      <th>Discount</th>\n",
              "      <th>#Order</th>\n",
              "      <th>Sales</th>\n",
              "    </tr>\n",
              "  </thead>\n",
              "  <tbody>\n",
              "    <tr>\n",
              "      <th>0</th>\n",
              "      <td>T1000001</td>\n",
              "      <td>1</td>\n",
              "      <td>S1</td>\n",
              "      <td>L3</td>\n",
              "      <td>R1</td>\n",
              "      <td>2018-01-01</td>\n",
              "      <td>1</td>\n",
              "      <td>Yes</td>\n",
              "      <td>9</td>\n",
              "      <td>7011.84</td>\n",
              "    </tr>\n",
              "    <tr>\n",
              "      <th>1</th>\n",
              "      <td>T1000002</td>\n",
              "      <td>253</td>\n",
              "      <td>S4</td>\n",
              "      <td>L2</td>\n",
              "      <td>R1</td>\n",
              "      <td>2018-01-01</td>\n",
              "      <td>1</td>\n",
              "      <td>Yes</td>\n",
              "      <td>60</td>\n",
              "      <td>51789.12</td>\n",
              "    </tr>\n",
              "    <tr>\n",
              "      <th>2</th>\n",
              "      <td>T1000003</td>\n",
              "      <td>252</td>\n",
              "      <td>S3</td>\n",
              "      <td>L2</td>\n",
              "      <td>R1</td>\n",
              "      <td>2018-01-01</td>\n",
              "      <td>1</td>\n",
              "      <td>Yes</td>\n",
              "      <td>42</td>\n",
              "      <td>36868.20</td>\n",
              "    </tr>\n",
              "    <tr>\n",
              "      <th>3</th>\n",
              "      <td>T1000004</td>\n",
              "      <td>251</td>\n",
              "      <td>S2</td>\n",
              "      <td>L3</td>\n",
              "      <td>R1</td>\n",
              "      <td>2018-01-01</td>\n",
              "      <td>1</td>\n",
              "      <td>Yes</td>\n",
              "      <td>23</td>\n",
              "      <td>19715.16</td>\n",
              "    </tr>\n",
              "  </tbody>\n",
              "</table>\n",
              "</div>"
            ],
            "text/plain": [
              "         ID  Store_id Store_Type  ... Discount #Order     Sales\n",
              "0  T1000001         1         S1  ...      Yes      9   7011.84\n",
              "1  T1000002       253         S4  ...      Yes     60  51789.12\n",
              "2  T1000003       252         S3  ...      Yes     42  36868.20\n",
              "3  T1000004       251         S2  ...      Yes     23  19715.16\n",
              "\n",
              "[4 rows x 10 columns]"
            ]
          },
          "metadata": {},
          "execution_count": 7
        }
      ]
    },
    {
      "cell_type": "code",
      "metadata": {
        "colab": {
          "base_uri": "https://localhost:8080/",
          "height": 352
        },
        "id": "mDWPEL36ePGZ",
        "outputId": "173136f8-830b-4862-f41f-a7bca066b7ab"
      },
      "source": [
        "plt.figure(figsize=(8,5))\n",
        "sns.countplot('Store_Type',data=train,palette='twilight')"
      ],
      "execution_count": 10,
      "outputs": [
        {
          "output_type": "execute_result",
          "data": {
            "text/plain": [
              "<matplotlib.axes._subplots.AxesSubplot at 0x7fd63124a710>"
            ]
          },
          "metadata": {},
          "execution_count": 10
        },
        {
          "output_type": "display_data",
          "data": {
            "image/png": "[encoded data removed]",
            "text/plain": [
              "<Figure size 576x360 with 1 Axes>"
            ]
          },
          "metadata": {
            "needs_background": "light"
          }
        }
      ]
    },
    {
      "cell_type": "markdown",
      "metadata": {
        "id": "Is-DAvwYLAmh"
      },
      "source": [
        "More sales from store type S1"
      ]
    },
    {
      "cell_type": "code",
      "metadata": {
        "colab": {
          "base_uri": "https://localhost:8080/",
          "height": 352
        },
        "id": "EwZ298Tne2Uq",
        "outputId": "64d9db8d-c96d-4d7d-ca4d-552e586fb091"
      },
      "source": [
        "plt.figure(figsize=(8,5))\n",
        "sns.countplot('Location_Type',data=train,palette='twilight')"
      ],
      "execution_count": 11,
      "outputs": [
        {
          "output_type": "execute_result",
          "data": {
            "text/plain": [
              "<matplotlib.axes._subplots.AxesSubplot at 0x7fd631216210>"
            ]
          },
          "metadata": {},
          "execution_count": 11
        },
        {
          "output_type": "display_data",
          "data": {
            "image/png": "[encoded data removed]",
            "text/plain": [
              "<Figure size 576x360 with 1 Axes>"
            ]
          },
          "metadata": {
            "needs_background": "light"
          }
        }
      ]
    },
    {
      "cell_type": "markdown",
      "metadata": {
        "id": "cNhVf11WLD_U"
      },
      "source": [
        "More sales from Location type L1"
      ]
    },
    {
      "cell_type": "code",
      "metadata": {
        "colab": {
          "base_uri": "https://localhost:8080/",
          "height": 352
        },
        "id": "LZEXqRVue6q1",
        "outputId": "ec1309d8-a330-4866-d606-eb8563463bb1"
      },
      "source": [
        "plt.figure(figsize=(8,5))\n",
        "sns.countplot('Region_Code',data=train,palette='twilight')"
      ],
      "execution_count": 12,
      "outputs": [
        {
          "output_type": "execute_result",
          "data": {
            "text/plain": [
              "<matplotlib.axes._subplots.AxesSubplot at 0x7fd6316be810>"
            ]
          },
          "metadata": {},
          "execution_count": 12
        },
        {
          "output_type": "display_data",
          "data": {
            "image/png": "[encoded data removed]",
            "text/plain": [
              "<Figure size 576x360 with 1 Axes>"
            ]
          },
          "metadata": {
            "needs_background": "light"
          }
        }
      ]
    },
    {
      "cell_type": "markdown",
      "metadata": {
        "id": "X9pn7CRILH3b"
      },
      "source": [
        "More sales from Region code R1"
      ]
    },
    {
      "cell_type": "markdown",
      "metadata": {
        "id": "66vBfhIZepno"
      },
      "source": [
        "## Feature engineering"
      ]
    },
    {
      "cell_type": "markdown",
      "metadata": {
        "id": "zjh0Y4KBskAa"
      },
      "source": [
        "### Cleaning data"
      ]
    },
    {
      "cell_type": "markdown",
      "metadata": {
        "id": "zm3judChS56D"
      },
      "source": [
        "**Missing values**"
      ]
    },
    {
      "cell_type": "code",
      "metadata": {
        "colab": {
          "base_uri": "https://localhost:8080/",
          "height": 0
        },
        "id": "9_jwCk2QQ3vE",
        "outputId": "aadbb943-7960-4f26-f781-ca68b9577af2"
      },
      "source": [
        "# Checking missing values:\n",
        "print(\"missing values in train dataset: \", train.isnull().sum().sum())\n",
        "print(\"missing values in test dataset: \", test.isnull().sum().sum())"
      ],
      "execution_count": 13,
      "outputs": [
        {
          "output_type": "stream",
          "name": "stdout",
          "text": [
            "missing values in train dataset:  0\n",
            "missing values in test dataset:  0\n"
          ]
        }
      ]
    },
    {
      "cell_type": "markdown",
      "metadata": {
        "id": "8AMdpDbnSVr0"
      },
      "source": [
        "There are no missing values in the dataset"
      ]
    },
    {
      "cell_type": "markdown",
      "metadata": {
        "id": "5vslOL9ES7lo"
      },
      "source": [
        "**Duplicate records**"
      ]
    },
    {
      "cell_type": "code",
      "metadata": {
        "colab": {
          "base_uri": "https://localhost:8080/",
          "height": 0
        },
        "id": "Gnpr6rFISaRW",
        "outputId": "7bd655d8-a50a-4360-f894-edc561965fdf"
      },
      "source": [
        "# Checking for any duplicated records:\n",
        "print(\"No. of duplicate records in train dataset: \", train.duplicated().sum())\n",
        "print(\"No. of duplicate records in test dataset: \", test.duplicated().sum())"
      ],
      "execution_count": 14,
      "outputs": [
        {
          "output_type": "stream",
          "name": "stdout",
          "text": [
            "No. of duplicate records in train dataset:  0\n",
            "No. of duplicate records in test dataset:  0\n"
          ]
        }
      ]
    },
    {
      "cell_type": "markdown",
      "metadata": {
        "id": "dJG_KgfCSyT7"
      },
      "source": [
        "There are no duplicate records in the dataset"
      ]
    },
    {
      "cell_type": "markdown",
      "metadata": {
        "id": "DJe_gc3VWSTL"
      },
      "source": [
        "*Removing the unimportant columns*\n",
        "\n",
        "\n",
        "*   *ID - Unique for every record*\n",
        "*   *#Order - The test dataset doesn't contain any such column.*\n"
      ]
    },
    {
      "cell_type": "code",
      "metadata": {
        "id": "k7KP8YI-WmXW"
      },
      "source": [
        "# Dropping the unimportant columns\n",
        "\n",
        "train_v1 = train.drop(columns=['ID', '#Order'], axis=1)\n",
        "test_v1 = test.drop(columns=['ID'], axis=1)"
      ],
      "execution_count": 135,
      "outputs": []
    },
    {
      "cell_type": "code",
      "metadata": {
        "colab": {
          "base_uri": "https://localhost:8080/",
          "height": 111
        },
        "id": "BJVLQmtte9bj",
        "outputId": "f912e4dc-aac7-4c52-9868-d9e5c2d2f5a4"
      },
      "source": [
        "train_v1.head(2)"
      ],
      "execution_count": 136,
      "outputs": [
        {
          "output_type": "execute_result",
          "data": {
            "text/html": [
              "<div>\n",
              "<style scoped>\n",
              "    .dataframe tbody tr th:only-of-type {\n",
              "        vertical-align: middle;\n",
              "    }\n",
              "\n",
              "    .dataframe tbody tr th {\n",
              "        vertical-align: top;\n",
              "    }\n",
              "\n",
              "    .dataframe thead th {\n",
              "        text-align: right;\n",
              "    }\n",
              "</style>\n",
              "<table border=\"1\" class=\"dataframe\">\n",
              "  <thead>\n",
              "    <tr style=\"text-align: right;\">\n",
              "      <th></th>\n",
              "      <th>Store_id</th>\n",
              "      <th>Store_Type</th>\n",
              "      <th>Location_Type</th>\n",
              "      <th>Region_Code</th>\n",
              "      <th>Date</th>\n",
              "      <th>Holiday</th>\n",
              "      <th>Discount</th>\n",
              "      <th>Sales</th>\n",
              "    </tr>\n",
              "  </thead>\n",
              "  <tbody>\n",
              "    <tr>\n",
              "      <th>0</th>\n",
              "      <td>1</td>\n",
              "      <td>S1</td>\n",
              "      <td>L3</td>\n",
              "      <td>R1</td>\n",
              "      <td>2018-01-01</td>\n",
              "      <td>1</td>\n",
              "      <td>Yes</td>\n",
              "      <td>7011.84</td>\n",
              "    </tr>\n",
              "    <tr>\n",
              "      <th>1</th>\n",
              "      <td>253</td>\n",
              "      <td>S4</td>\n",
              "      <td>L2</td>\n",
              "      <td>R1</td>\n",
              "      <td>2018-01-01</td>\n",
              "      <td>1</td>\n",
              "      <td>Yes</td>\n",
              "      <td>51789.12</td>\n",
              "    </tr>\n",
              "  </tbody>\n",
              "</table>\n",
              "</div>"
            ],
            "text/plain": [
              "   Store_id Store_Type Location_Type  ... Holiday Discount     Sales\n",
              "0         1         S1            L3  ...       1      Yes   7011.84\n",
              "1       253         S4            L2  ...       1      Yes  51789.12\n",
              "\n",
              "[2 rows x 8 columns]"
            ]
          },
          "metadata": {},
          "execution_count": 136
        }
      ]
    },
    {
      "cell_type": "code",
      "metadata": {
        "colab": {
          "base_uri": "https://localhost:8080/",
          "height": 111
        },
        "id": "cWFak-W4Xoh2",
        "outputId": "19bf6958-1e88-4c4e-c470-5c55d6043258"
      },
      "source": [
        "test_v1.head(2)"
      ],
      "execution_count": 137,
      "outputs": [
        {
          "output_type": "execute_result",
          "data": {
            "text/html": [
              "<div>\n",
              "<style scoped>\n",
              "    .dataframe tbody tr th:only-of-type {\n",
              "        vertical-align: middle;\n",
              "    }\n",
              "\n",
              "    .dataframe tbody tr th {\n",
              "        vertical-align: top;\n",
              "    }\n",
              "\n",
              "    .dataframe thead th {\n",
              "        text-align: right;\n",
              "    }\n",
              "</style>\n",
              "<table border=\"1\" class=\"dataframe\">\n",
              "  <thead>\n",
              "    <tr style=\"text-align: right;\">\n",
              "      <th></th>\n",
              "      <th>Store_id</th>\n",
              "      <th>Store_Type</th>\n",
              "      <th>Location_Type</th>\n",
              "      <th>Region_Code</th>\n",
              "      <th>Date</th>\n",
              "      <th>Holiday</th>\n",
              "      <th>Discount</th>\n",
              "    </tr>\n",
              "  </thead>\n",
              "  <tbody>\n",
              "    <tr>\n",
              "      <th>0</th>\n",
              "      <td>171</td>\n",
              "      <td>S4</td>\n",
              "      <td>L2</td>\n",
              "      <td>R3</td>\n",
              "      <td>2019-06-01</td>\n",
              "      <td>0</td>\n",
              "      <td>No</td>\n",
              "    </tr>\n",
              "    <tr>\n",
              "      <th>1</th>\n",
              "      <td>172</td>\n",
              "      <td>S1</td>\n",
              "      <td>L1</td>\n",
              "      <td>R1</td>\n",
              "      <td>2019-06-01</td>\n",
              "      <td>0</td>\n",
              "      <td>No</td>\n",
              "    </tr>\n",
              "  </tbody>\n",
              "</table>\n",
              "</div>"
            ],
            "text/plain": [
              "   Store_id Store_Type Location_Type Region_Code        Date  Holiday Discount\n",
              "0       171         S4            L2          R3  2019-06-01        0       No\n",
              "1       172         S1            L1          R1  2019-06-01        0       No"
            ]
          },
          "metadata": {},
          "execution_count": 137
        }
      ]
    },
    {
      "cell_type": "markdown",
      "metadata": {
        "id": "0E3EpmKKX2xV"
      },
      "source": [
        "Getting a glimpse of the categorical columns"
      ]
    },
    {
      "cell_type": "code",
      "metadata": {
        "colab": {
          "base_uri": "https://localhost:8080/",
          "height": 0
        },
        "id": "tf8B6K-OYBqt",
        "outputId": "4b83442c-9f19-4d8a-8bb6-6139623814b1"
      },
      "source": [
        "# Displaying datatypes\n",
        "train_v1.dtypes"
      ],
      "execution_count": 138,
      "outputs": [
        {
          "output_type": "execute_result",
          "data": {
            "text/plain": [
              "Store_id           int64\n",
              "Store_Type        object\n",
              "Location_Type     object\n",
              "Region_Code       object\n",
              "Date              object\n",
              "Holiday            int64\n",
              "Discount          object\n",
              "Sales            float64\n",
              "dtype: object"
            ]
          },
          "metadata": {},
          "execution_count": 138
        }
      ]
    },
    {
      "cell_type": "markdown",
      "metadata": {
        "id": "XD5sEjHNYIcv"
      },
      "source": [
        "We have five categorical columns:\n",
        "\n",
        "1. Store_Type\n",
        "2. Location_Type\n",
        "3. Region_Code\n",
        "4. Date\n",
        "5. Discount"
      ]
    },
    {
      "cell_type": "markdown",
      "metadata": {
        "id": "lD-b3J0ebQNE"
      },
      "source": [
        "Encoding the 'Date' column"
      ]
    },
    {
      "cell_type": "code",
      "metadata": {
        "id": "SIUhsGmRygLj"
      },
      "source": [
        "train_v1['Date'] = pd.to_datetime(train_v1['Date'], format='%Y-%m-%d')\n",
        "test_v1['Date'] = pd.to_datetime(test_v1['Date'], format='%Y-%m-%d')"
      ],
      "execution_count": 140,
      "outputs": []
    },
    {
      "cell_type": "code",
      "metadata": {
        "colab": {
          "base_uri": "https://localhost:8080/",
          "height": 111
        },
        "id": "0FAk_bbxvmUB",
        "outputId": "0d4e09eb-13fb-462e-fa08-03fef10e3c1d"
      },
      "source": [
        "train_v1.head(2)"
      ],
      "execution_count": 141,
      "outputs": [
        {
          "output_type": "execute_result",
          "data": {
            "text/html": [
              "<div>\n",
              "<style scoped>\n",
              "    .dataframe tbody tr th:only-of-type {\n",
              "        vertical-align: middle;\n",
              "    }\n",
              "\n",
              "    .dataframe tbody tr th {\n",
              "        vertical-align: top;\n",
              "    }\n",
              "\n",
              "    .dataframe thead th {\n",
              "        text-align: right;\n",
              "    }\n",
              "</style>\n",
              "<table border=\"1\" class=\"dataframe\">\n",
              "  <thead>\n",
              "    <tr style=\"text-align: right;\">\n",
              "      <th></th>\n",
              "      <th>Store_id</th>\n",
              "      <th>Store_Type</th>\n",
              "      <th>Location_Type</th>\n",
              "      <th>Region_Code</th>\n",
              "      <th>Date</th>\n",
              "      <th>Holiday</th>\n",
              "      <th>Discount</th>\n",
              "      <th>Sales</th>\n",
              "    </tr>\n",
              "  </thead>\n",
              "  <tbody>\n",
              "    <tr>\n",
              "      <th>0</th>\n",
              "      <td>1</td>\n",
              "      <td>S1</td>\n",
              "      <td>L3</td>\n",
              "      <td>R1</td>\n",
              "      <td>2018-01-01</td>\n",
              "      <td>1</td>\n",
              "      <td>Yes</td>\n",
              "      <td>7011.84</td>\n",
              "    </tr>\n",
              "    <tr>\n",
              "      <th>1</th>\n",
              "      <td>253</td>\n",
              "      <td>S4</td>\n",
              "      <td>L2</td>\n",
              "      <td>R1</td>\n",
              "      <td>2018-01-01</td>\n",
              "      <td>1</td>\n",
              "      <td>Yes</td>\n",
              "      <td>51789.12</td>\n",
              "    </tr>\n",
              "  </tbody>\n",
              "</table>\n",
              "</div>"
            ],
            "text/plain": [
              "   Store_id Store_Type Location_Type  ... Holiday Discount     Sales\n",
              "0         1         S1            L3  ...       1      Yes   7011.84\n",
              "1       253         S4            L2  ...       1      Yes  51789.12\n",
              "\n",
              "[2 rows x 8 columns]"
            ]
          },
          "metadata": {},
          "execution_count": 141
        }
      ]
    },
    {
      "cell_type": "code",
      "metadata": {
        "colab": {
          "base_uri": "https://localhost:8080/",
          "height": 111
        },
        "id": "FYDNXwqIvqAE",
        "outputId": "a74db03a-d8a5-4aca-cd20-34a15f5b36a3"
      },
      "source": [
        "test_v1.head(2)"
      ],
      "execution_count": 142,
      "outputs": [
        {
          "output_type": "execute_result",
          "data": {
            "text/html": [
              "<div>\n",
              "<style scoped>\n",
              "    .dataframe tbody tr th:only-of-type {\n",
              "        vertical-align: middle;\n",
              "    }\n",
              "\n",
              "    .dataframe tbody tr th {\n",
              "        vertical-align: top;\n",
              "    }\n",
              "\n",
              "    .dataframe thead th {\n",
              "        text-align: right;\n",
              "    }\n",
              "</style>\n",
              "<table border=\"1\" class=\"dataframe\">\n",
              "  <thead>\n",
              "    <tr style=\"text-align: right;\">\n",
              "      <th></th>\n",
              "      <th>Store_id</th>\n",
              "      <th>Store_Type</th>\n",
              "      <th>Location_Type</th>\n",
              "      <th>Region_Code</th>\n",
              "      <th>Date</th>\n",
              "      <th>Holiday</th>\n",
              "      <th>Discount</th>\n",
              "    </tr>\n",
              "  </thead>\n",
              "  <tbody>\n",
              "    <tr>\n",
              "      <th>0</th>\n",
              "      <td>171</td>\n",
              "      <td>S4</td>\n",
              "      <td>L2</td>\n",
              "      <td>R3</td>\n",
              "      <td>2019-06-01</td>\n",
              "      <td>0</td>\n",
              "      <td>No</td>\n",
              "    </tr>\n",
              "    <tr>\n",
              "      <th>1</th>\n",
              "      <td>172</td>\n",
              "      <td>S1</td>\n",
              "      <td>L1</td>\n",
              "      <td>R1</td>\n",
              "      <td>2019-06-01</td>\n",
              "      <td>0</td>\n",
              "      <td>No</td>\n",
              "    </tr>\n",
              "  </tbody>\n",
              "</table>\n",
              "</div>"
            ],
            "text/plain": [
              "   Store_id Store_Type Location_Type Region_Code       Date  Holiday Discount\n",
              "0       171         S4            L2          R3 2019-06-01        0       No\n",
              "1       172         S1            L1          R1 2019-06-01        0       No"
            ]
          },
          "metadata": {},
          "execution_count": 142
        }
      ]
    },
    {
      "cell_type": "code",
      "metadata": {
        "colab": {
          "base_uri": "https://localhost:8080/",
          "height": 0
        },
        "id": "KEN2NXdTyTWJ",
        "outputId": "69c7701a-9cab-4c7d-dcf1-6b466a743e41"
      },
      "source": [
        "train_v1.dtypes"
      ],
      "execution_count": 143,
      "outputs": [
        {
          "output_type": "execute_result",
          "data": {
            "text/plain": [
              "Store_id                  int64\n",
              "Store_Type               object\n",
              "Location_Type            object\n",
              "Region_Code              object\n",
              "Date             datetime64[ns]\n",
              "Holiday                   int64\n",
              "Discount                 object\n",
              "Sales                   float64\n",
              "dtype: object"
            ]
          },
          "metadata": {},
          "execution_count": 143
        }
      ]
    },
    {
      "cell_type": "code",
      "metadata": {
        "id": "wzcLr8KHbUUd"
      },
      "source": [
        "# function for encoding date into day, month and year\n",
        "def encode_date(dataframe, column):\n",
        "  dataframe[\"Day\"] = dataframe[column].dt.day\n",
        "  dataframe[\"Month\"] = dataframe[column].dt.month\n",
        "  dataframe[\"Year\"] = dataframe[column].dt.year\n",
        "  dataframe[\"DayOfYear\"] = dataframe[column].dt.dayofyear\n",
        "  dataframe[\"WeekOfYear\"] = dataframe[column].dt.weekofyear"
      ],
      "execution_count": 148,
      "outputs": []
    },
    {
      "cell_type": "code",
      "metadata": {
        "id": "Yzx5HffMz3eX"
      },
      "source": [
        "# for train data\n",
        "encode_date(train_v1, 'Date')\n",
        "\n",
        "# for test data\n",
        "encode_date(test_v1, 'Date')"
      ],
      "execution_count": 149,
      "outputs": []
    },
    {
      "cell_type": "code",
      "metadata": {
        "colab": {
          "base_uri": "https://localhost:8080/",
          "height": 0
        },
        "id": "BKYWFTGCzKVC",
        "outputId": "f7ff4f93-4b95-42e5-fd9e-224287a544e7"
      },
      "source": [
        "print(train_v1.head(5))\n",
        "print(test_v1.head(5))"
      ],
      "execution_count": 151,
      "outputs": [
        {
          "output_type": "stream",
          "name": "stdout",
          "text": [
            "   Store_id Store_Type Location_Type  ...  Year DayOfYear  WeekOfYear\n",
            "0         1         S1            L3  ...  2018         1           1\n",
            "1       253         S4            L2  ...  2018         1           1\n",
            "2       252         S3            L2  ...  2018         1           1\n",
            "3       251         S2            L3  ...  2018         1           1\n",
            "4       250         S2            L3  ...  2018         1           1\n",
            "\n",
            "[5 rows x 13 columns]\n",
            "   Store_id Store_Type Location_Type  ...  Year DayOfYear  WeekOfYear\n",
            "0       171         S4            L2  ...  2019       152          22\n",
            "1       172         S1            L1  ...  2019       152          22\n",
            "2       173         S4            L2  ...  2019       152          22\n",
            "3       174         S1            L1  ...  2019       152          22\n",
            "4       170         S1            L1  ...  2019       152          22\n",
            "\n",
            "[5 rows x 12 columns]\n"
          ]
        }
      ]
    },
    {
      "cell_type": "markdown",
      "metadata": {
        "id": "HeIiwwOVYcoV"
      },
      "source": [
        "Categorical variable analysis for applying OneHot Encoding / Label Encoding"
      ]
    },
    {
      "cell_type": "code",
      "metadata": {
        "colab": {
          "base_uri": "https://localhost:8080/",
          "height": 0
        },
        "id": "41K5_49hfCV3",
        "outputId": "e7266f7a-ad45-422d-b680-ccf11877715f"
      },
      "source": [
        "train_v1['Store_Type'].value_counts()"
      ],
      "execution_count": 96,
      "outputs": [
        {
          "output_type": "execute_result",
          "data": {
            "text/plain": [
              "S1    88752\n",
              "S4    45924\n",
              "S2    28896\n",
              "S3    24768\n",
              "Name: Store_Type, dtype: int64"
            ]
          },
          "metadata": {},
          "execution_count": 96
        }
      ]
    },
    {
      "cell_type": "code",
      "metadata": {
        "colab": {
          "base_uri": "https://localhost:8080/",
          "height": 0
        },
        "id": "sP9TJkDPfKHv",
        "outputId": "c40f9074-4165-4554-a30a-6422139ba0cb"
      },
      "source": [
        "train_v1['Location_Type'].value_counts()"
      ],
      "execution_count": 97,
      "outputs": [
        {
          "output_type": "execute_result",
          "data": {
            "text/plain": [
              "L1    85140\n",
              "L2    48504\n",
              "L3    29928\n",
              "L5    13932\n",
              "L4    10836\n",
              "Name: Location_Type, dtype: int64"
            ]
          },
          "metadata": {},
          "execution_count": 97
        }
      ]
    },
    {
      "cell_type": "code",
      "metadata": {
        "colab": {
          "base_uri": "https://localhost:8080/",
          "height": 0
        },
        "id": "DRYjBWUofOLc",
        "outputId": "acad3a43-1c2f-44a1-df31-07256cc54b1f"
      },
      "source": [
        "train_v1['Region_Code'].value_counts()"
      ],
      "execution_count": 98,
      "outputs": [
        {
          "output_type": "execute_result",
          "data": {
            "text/plain": [
              "R1    63984\n",
              "R2    54180\n",
              "R3    44376\n",
              "R4    25800\n",
              "Name: Region_Code, dtype: int64"
            ]
          },
          "metadata": {},
          "execution_count": 98
        }
      ]
    },
    {
      "cell_type": "code",
      "metadata": {
        "colab": {
          "base_uri": "https://localhost:8080/",
          "height": 0
        },
        "id": "8qu7RxLdfS--",
        "outputId": "79d8e648-4bb2-49da-c87c-bac4e9f3d75c"
      },
      "source": [
        "train_v1['Discount'].value_counts()"
      ],
      "execution_count": 99,
      "outputs": [
        {
          "output_type": "execute_result",
          "data": {
            "text/plain": [
              "No     104051\n",
              "Yes     84289\n",
              "Name: Discount, dtype: int64"
            ]
          },
          "metadata": {},
          "execution_count": 99
        }
      ]
    },
    {
      "cell_type": "markdown",
      "metadata": {
        "id": "I-pz_BatYwhn"
      },
      "source": [
        "The following categorical features will be encoded with One Hot Encoding, since, they are nominal variables and they have more than two types:\n",
        "\n",
        "1. Store_Type\n",
        "2. Location_Type\n",
        "3. Region_Code\n",
        "\n",
        "The following categorical feature will be encoded with Label Encoder since it has only two type, either 'yes' or 'no'\n",
        "\n",
        "*   Discount\n",
        "\n"
      ]
    },
    {
      "cell_type": "markdown",
      "metadata": {
        "id": "dFWBPk4abH1d"
      },
      "source": [
        "Label Encoding"
      ]
    },
    {
      "cell_type": "code",
      "metadata": {
        "id": "Th5_1NKtYvvr"
      },
      "source": [
        "# label_encoder object\n",
        "label_encoder = LabelEncoder()\n",
        "\n",
        "# Encode labels in column 'Discount'.\n",
        "train_v1['Discount_encoded']= label_encoder.fit_transform(train_v1['Discount'])\n",
        "test_v1['Discount_encoded']= label_encoder.fit_transform(test_v1['Discount'])"
      ],
      "execution_count": 152,
      "outputs": []
    },
    {
      "cell_type": "code",
      "metadata": {
        "colab": {
          "base_uri": "https://localhost:8080/",
          "height": 309
        },
        "id": "yGCejBgYzphr",
        "outputId": "66e36083-9a2d-4c98-8131-2ff3208d539b"
      },
      "source": [
        "train_v1.head(5)"
      ],
      "execution_count": 153,
      "outputs": [
        {
          "output_type": "execute_result",
          "data": {
            "text/html": [
              "<div>\n",
              "<style scoped>\n",
              "    .dataframe tbody tr th:only-of-type {\n",
              "        vertical-align: middle;\n",
              "    }\n",
              "\n",
              "    .dataframe tbody tr th {\n",
              "        vertical-align: top;\n",
              "    }\n",
              "\n",
              "    .dataframe thead th {\n",
              "        text-align: right;\n",
              "    }\n",
              "</style>\n",
              "<table border=\"1\" class=\"dataframe\">\n",
              "  <thead>\n",
              "    <tr style=\"text-align: right;\">\n",
              "      <th></th>\n",
              "      <th>Store_id</th>\n",
              "      <th>Store_Type</th>\n",
              "      <th>Location_Type</th>\n",
              "      <th>Region_Code</th>\n",
              "      <th>Date</th>\n",
              "      <th>Holiday</th>\n",
              "      <th>Discount</th>\n",
              "      <th>Sales</th>\n",
              "      <th>Day</th>\n",
              "      <th>Month</th>\n",
              "      <th>Year</th>\n",
              "      <th>DayOfYear</th>\n",
              "      <th>WeekOfYear</th>\n",
              "      <th>Discount_encoded</th>\n",
              "    </tr>\n",
              "  </thead>\n",
              "  <tbody>\n",
              "    <tr>\n",
              "      <th>0</th>\n",
              "      <td>1</td>\n",
              "      <td>S1</td>\n",
              "      <td>L3</td>\n",
              "      <td>R1</td>\n",
              "      <td>2018-01-01</td>\n",
              "      <td>1</td>\n",
              "      <td>Yes</td>\n",
              "      <td>7011.84</td>\n",
              "      <td>1</td>\n",
              "      <td>1</td>\n",
              "      <td>2018</td>\n",
              "      <td>1</td>\n",
              "      <td>1</td>\n",
              "      <td>1</td>\n",
              "    </tr>\n",
              "    <tr>\n",
              "      <th>1</th>\n",
              "      <td>253</td>\n",
              "      <td>S4</td>\n",
              "      <td>L2</td>\n",
              "      <td>R1</td>\n",
              "      <td>2018-01-01</td>\n",
              "      <td>1</td>\n",
              "      <td>Yes</td>\n",
              "      <td>51789.12</td>\n",
              "      <td>1</td>\n",
              "      <td>1</td>\n",
              "      <td>2018</td>\n",
              "      <td>1</td>\n",
              "      <td>1</td>\n",
              "      <td>1</td>\n",
              "    </tr>\n",
              "    <tr>\n",
              "      <th>2</th>\n",
              "      <td>252</td>\n",
              "      <td>S3</td>\n",
              "      <td>L2</td>\n",
              "      <td>R1</td>\n",
              "      <td>2018-01-01</td>\n",
              "      <td>1</td>\n",
              "      <td>Yes</td>\n",
              "      <td>36868.20</td>\n",
              "      <td>1</td>\n",
              "      <td>1</td>\n",
              "      <td>2018</td>\n",
              "      <td>1</td>\n",
              "      <td>1</td>\n",
              "      <td>1</td>\n",
              "    </tr>\n",
              "    <tr>\n",
              "      <th>3</th>\n",
              "      <td>251</td>\n",
              "      <td>S2</td>\n",
              "      <td>L3</td>\n",
              "      <td>R1</td>\n",
              "      <td>2018-01-01</td>\n",
              "      <td>1</td>\n",
              "      <td>Yes</td>\n",
              "      <td>19715.16</td>\n",
              "      <td>1</td>\n",
              "      <td>1</td>\n",
              "      <td>2018</td>\n",
              "      <td>1</td>\n",
              "      <td>1</td>\n",
              "      <td>1</td>\n",
              "    </tr>\n",
              "    <tr>\n",
              "      <th>4</th>\n",
              "      <td>250</td>\n",
              "      <td>S2</td>\n",
              "      <td>L3</td>\n",
              "      <td>R4</td>\n",
              "      <td>2018-01-01</td>\n",
              "      <td>1</td>\n",
              "      <td>Yes</td>\n",
              "      <td>45614.52</td>\n",
              "      <td>1</td>\n",
              "      <td>1</td>\n",
              "      <td>2018</td>\n",
              "      <td>1</td>\n",
              "      <td>1</td>\n",
              "      <td>1</td>\n",
              "    </tr>\n",
              "  </tbody>\n",
              "</table>\n",
              "</div>"
            ],
            "text/plain": [
              "   Store_id Store_Type Location_Type  ... DayOfYear WeekOfYear  Discount_encoded\n",
              "0         1         S1            L3  ...         1          1                 1\n",
              "1       253         S4            L2  ...         1          1                 1\n",
              "2       252         S3            L2  ...         1          1                 1\n",
              "3       251         S2            L3  ...         1          1                 1\n",
              "4       250         S2            L3  ...         1          1                 1\n",
              "\n",
              "[5 rows x 14 columns]"
            ]
          },
          "metadata": {},
          "execution_count": 153
        }
      ]
    },
    {
      "cell_type": "code",
      "metadata": {
        "id": "loYmggB2zt8k"
      },
      "source": [
        "train_v2 = train_v1.drop(columns=['Date', 'Discount'])\n",
        "test_v2 = test_v1.drop(columns=['Date', 'Discount'])"
      ],
      "execution_count": 229,
      "outputs": []
    },
    {
      "cell_type": "code",
      "metadata": {
        "colab": {
          "base_uri": "https://localhost:8080/",
          "height": 131
        },
        "id": "isxaztSDz34q",
        "outputId": "a6b8e640-a1c5-4a45-e5ed-c9aa828ad3cd"
      },
      "source": [
        "train_v2.head(2)"
      ],
      "execution_count": 230,
      "outputs": [
        {
          "output_type": "execute_result",
          "data": {
            "text/html": [
              "<div>\n",
              "<style scoped>\n",
              "    .dataframe tbody tr th:only-of-type {\n",
              "        vertical-align: middle;\n",
              "    }\n",
              "\n",
              "    .dataframe tbody tr th {\n",
              "        vertical-align: top;\n",
              "    }\n",
              "\n",
              "    .dataframe thead th {\n",
              "        text-align: right;\n",
              "    }\n",
              "</style>\n",
              "<table border=\"1\" class=\"dataframe\">\n",
              "  <thead>\n",
              "    <tr style=\"text-align: right;\">\n",
              "      <th></th>\n",
              "      <th>Store_id</th>\n",
              "      <th>Store_Type</th>\n",
              "      <th>Location_Type</th>\n",
              "      <th>Region_Code</th>\n",
              "      <th>Holiday</th>\n",
              "      <th>Sales</th>\n",
              "      <th>Day</th>\n",
              "      <th>Month</th>\n",
              "      <th>Year</th>\n",
              "      <th>DayOfYear</th>\n",
              "      <th>WeekOfYear</th>\n",
              "      <th>Discount_encoded</th>\n",
              "    </tr>\n",
              "  </thead>\n",
              "  <tbody>\n",
              "    <tr>\n",
              "      <th>0</th>\n",
              "      <td>1</td>\n",
              "      <td>S1</td>\n",
              "      <td>L3</td>\n",
              "      <td>R1</td>\n",
              "      <td>1</td>\n",
              "      <td>7011.84</td>\n",
              "      <td>1</td>\n",
              "      <td>1</td>\n",
              "      <td>2018</td>\n",
              "      <td>1</td>\n",
              "      <td>1</td>\n",
              "      <td>1</td>\n",
              "    </tr>\n",
              "    <tr>\n",
              "      <th>1</th>\n",
              "      <td>253</td>\n",
              "      <td>S4</td>\n",
              "      <td>L2</td>\n",
              "      <td>R1</td>\n",
              "      <td>1</td>\n",
              "      <td>51789.12</td>\n",
              "      <td>1</td>\n",
              "      <td>1</td>\n",
              "      <td>2018</td>\n",
              "      <td>1</td>\n",
              "      <td>1</td>\n",
              "      <td>1</td>\n",
              "    </tr>\n",
              "  </tbody>\n",
              "</table>\n",
              "</div>"
            ],
            "text/plain": [
              "   Store_id Store_Type Location_Type  ... DayOfYear  WeekOfYear  Discount_encoded\n",
              "0         1         S1            L3  ...         1           1                 1\n",
              "1       253         S4            L2  ...         1           1                 1\n",
              "\n",
              "[2 rows x 12 columns]"
            ]
          },
          "metadata": {},
          "execution_count": 230
        }
      ]
    },
    {
      "cell_type": "code",
      "metadata": {
        "colab": {
          "base_uri": "https://localhost:8080/",
          "height": 111
        },
        "id": "rS4u2-7-0_WS",
        "outputId": "3017e066-2a30-4bf9-9876-bb548e3b6e42"
      },
      "source": [
        "test_v2.head(2)"
      ],
      "execution_count": 231,
      "outputs": [
        {
          "output_type": "execute_result",
          "data": {
            "text/html": [
              "<div>\n",
              "<style scoped>\n",
              "    .dataframe tbody tr th:only-of-type {\n",
              "        vertical-align: middle;\n",
              "    }\n",
              "\n",
              "    .dataframe tbody tr th {\n",
              "        vertical-align: top;\n",
              "    }\n",
              "\n",
              "    .dataframe thead th {\n",
              "        text-align: right;\n",
              "    }\n",
              "</style>\n",
              "<table border=\"1\" class=\"dataframe\">\n",
              "  <thead>\n",
              "    <tr style=\"text-align: right;\">\n",
              "      <th></th>\n",
              "      <th>Store_id</th>\n",
              "      <th>Store_Type</th>\n",
              "      <th>Location_Type</th>\n",
              "      <th>Region_Code</th>\n",
              "      <th>Holiday</th>\n",
              "      <th>Day</th>\n",
              "      <th>Month</th>\n",
              "      <th>Year</th>\n",
              "      <th>DayOfYear</th>\n",
              "      <th>WeekOfYear</th>\n",
              "      <th>Discount_encoded</th>\n",
              "    </tr>\n",
              "  </thead>\n",
              "  <tbody>\n",
              "    <tr>\n",
              "      <th>0</th>\n",
              "      <td>171</td>\n",
              "      <td>S4</td>\n",
              "      <td>L2</td>\n",
              "      <td>R3</td>\n",
              "      <td>0</td>\n",
              "      <td>1</td>\n",
              "      <td>6</td>\n",
              "      <td>2019</td>\n",
              "      <td>152</td>\n",
              "      <td>22</td>\n",
              "      <td>0</td>\n",
              "    </tr>\n",
              "    <tr>\n",
              "      <th>1</th>\n",
              "      <td>172</td>\n",
              "      <td>S1</td>\n",
              "      <td>L1</td>\n",
              "      <td>R1</td>\n",
              "      <td>0</td>\n",
              "      <td>1</td>\n",
              "      <td>6</td>\n",
              "      <td>2019</td>\n",
              "      <td>152</td>\n",
              "      <td>22</td>\n",
              "      <td>0</td>\n",
              "    </tr>\n",
              "  </tbody>\n",
              "</table>\n",
              "</div>"
            ],
            "text/plain": [
              "   Store_id Store_Type Location_Type  ... DayOfYear  WeekOfYear  Discount_encoded\n",
              "0       171         S4            L2  ...       152          22                 0\n",
              "1       172         S1            L1  ...       152          22                 0\n",
              "\n",
              "[2 rows x 11 columns]"
            ]
          },
          "metadata": {},
          "execution_count": 231
        }
      ]
    },
    {
      "cell_type": "markdown",
      "metadata": {
        "id": "uVexyxqabKaS"
      },
      "source": [
        "One Hot Encoding"
      ]
    },
    {
      "cell_type": "code",
      "metadata": {
        "id": "CJrUTGiXe_45"
      },
      "source": [
        "# One hot encoding\n",
        "train_v2 = pd.get_dummies(train_v2)\n",
        "test_v2 = pd.get_dummies(test_v2)"
      ],
      "execution_count": 232,
      "outputs": []
    },
    {
      "cell_type": "code",
      "metadata": {
        "colab": {
          "base_uri": "https://localhost:8080/",
          "height": 0
        },
        "id": "bagm1yXGbKCE",
        "outputId": "cba3b393-4b6a-464e-e9f1-c46e836da32a"
      },
      "source": [
        "print(train_v2.head(2))\n",
        "print(test_v2.head(2))"
      ],
      "execution_count": 233,
      "outputs": [
        {
          "output_type": "stream",
          "name": "stdout",
          "text": [
            "   Store_id  Holiday     Sales  ...  Region_Code_R2  Region_Code_R3  Region_Code_R4\n",
            "0         1        1   7011.84  ...               0               0               0\n",
            "1       253        1  51789.12  ...               0               0               0\n",
            "\n",
            "[2 rows x 22 columns]\n",
            "   Store_id  Holiday  Day  ...  Region_Code_R2  Region_Code_R3  Region_Code_R4\n",
            "0       171        0    1  ...               0               1               0\n",
            "1       172        0    1  ...               0               0               0\n",
            "\n",
            "[2 rows x 21 columns]\n"
          ]
        }
      ]
    },
    {
      "cell_type": "markdown",
      "metadata": {
        "id": "AJP8hTPNfy5E"
      },
      "source": [
        "One Hot Encoding successfully implemented !"
      ]
    },
    {
      "cell_type": "markdown",
      "metadata": {
        "id": "g5JnqWnUgmdA"
      },
      "source": [
        "**Feature generation with Binning on the Store_id column**"
      ]
    },
    {
      "cell_type": "code",
      "metadata": {
        "colab": {
          "base_uri": "https://localhost:8080/",
          "height": 0
        },
        "id": "BkAQRtmMihVC",
        "outputId": "a073a1da-6185-48c2-d938-4cce3ccc0447"
      },
      "source": [
        "print(\"Minimun value: \", train_v2['Store_id'].min())\n",
        "print(\"Maximum value: \", train_v2['Store_id'].max())"
      ],
      "execution_count": 113,
      "outputs": [
        {
          "output_type": "stream",
          "name": "stdout",
          "text": [
            "Minimun value:  1\n",
            "Maximum value:  365\n"
          ]
        }
      ]
    },
    {
      "cell_type": "code",
      "metadata": {
        "colab": {
          "base_uri": "https://localhost:8080/",
          "height": 0
        },
        "id": "ZcZkmRcXZotF",
        "outputId": "702c79e9-8320-4f31-ba85-f34b3ec05711"
      },
      "source": [
        "train_v2['Store_id'].value_counts()"
      ],
      "execution_count": 107,
      "outputs": [
        {
          "output_type": "execute_result",
          "data": {
            "text/plain": [
              "255    516\n",
              "38     516\n",
              "294    516\n",
              "39     516\n",
              "167    516\n",
              "      ... \n",
              "337    516\n",
              "82     516\n",
              "210    516\n",
              "338    516\n",
              "128    516\n",
              "Name: Store_id, Length: 365, dtype: int64"
            ]
          },
          "metadata": {},
          "execution_count": 107
        }
      ]
    },
    {
      "cell_type": "code",
      "metadata": {
        "colab": {
          "base_uri": "https://localhost:8080/",
          "height": 379
        },
        "id": "qy-4cw1tmWmJ",
        "outputId": "dab8358e-97db-4910-b570-464e393fc17f"
      },
      "source": [
        "train_v2.head(10)"
      ],
      "execution_count": 108,
      "outputs": [
        {
          "output_type": "execute_result",
          "data": {
            "text/html": [
              "<div>\n",
              "<style scoped>\n",
              "    .dataframe tbody tr th:only-of-type {\n",
              "        vertical-align: middle;\n",
              "    }\n",
              "\n",
              "    .dataframe tbody tr th {\n",
              "        vertical-align: top;\n",
              "    }\n",
              "\n",
              "    .dataframe thead th {\n",
              "        text-align: right;\n",
              "    }\n",
              "</style>\n",
              "<table border=\"1\" class=\"dataframe\">\n",
              "  <thead>\n",
              "    <tr style=\"text-align: right;\">\n",
              "      <th></th>\n",
              "      <th>Store_id</th>\n",
              "      <th>Holiday</th>\n",
              "      <th>Sales</th>\n",
              "      <th>Day</th>\n",
              "      <th>Month</th>\n",
              "      <th>Year</th>\n",
              "      <th>DayOfYear</th>\n",
              "      <th>WeekOfYear</th>\n",
              "      <th>Discount_encoded</th>\n",
              "      <th>Store_Type_S1</th>\n",
              "      <th>Store_Type_S2</th>\n",
              "      <th>Store_Type_S3</th>\n",
              "      <th>Store_Type_S4</th>\n",
              "      <th>Location_Type_L1</th>\n",
              "      <th>Location_Type_L2</th>\n",
              "      <th>Location_Type_L3</th>\n",
              "      <th>Location_Type_L4</th>\n",
              "      <th>Location_Type_L5</th>\n",
              "      <th>Region_Code_R1</th>\n",
              "      <th>Region_Code_R2</th>\n",
              "      <th>Region_Code_R3</th>\n",
              "      <th>Region_Code_R4</th>\n",
              "    </tr>\n",
              "  </thead>\n",
              "  <tbody>\n",
              "    <tr>\n",
              "      <th>0</th>\n",
              "      <td>1</td>\n",
              "      <td>1</td>\n",
              "      <td>7011.84</td>\n",
              "      <td>1</td>\n",
              "      <td>1</td>\n",
              "      <td>2018</td>\n",
              "      <td>1</td>\n",
              "      <td>1</td>\n",
              "      <td>1</td>\n",
              "      <td>1</td>\n",
              "      <td>0</td>\n",
              "      <td>0</td>\n",
              "      <td>0</td>\n",
              "      <td>0</td>\n",
              "      <td>0</td>\n",
              "      <td>1</td>\n",
              "      <td>0</td>\n",
              "      <td>0</td>\n",
              "      <td>1</td>\n",
              "      <td>0</td>\n",
              "      <td>0</td>\n",
              "      <td>0</td>\n",
              "    </tr>\n",
              "    <tr>\n",
              "      <th>1</th>\n",
              "      <td>253</td>\n",
              "      <td>1</td>\n",
              "      <td>51789.12</td>\n",
              "      <td>1</td>\n",
              "      <td>1</td>\n",
              "      <td>2018</td>\n",
              "      <td>1</td>\n",
              "      <td>1</td>\n",
              "      <td>1</td>\n",
              "      <td>0</td>\n",
              "      <td>0</td>\n",
              "      <td>0</td>\n",
              "      <td>1</td>\n",
              "      <td>0</td>\n",
              "      <td>1</td>\n",
              "      <td>0</td>\n",
              "      <td>0</td>\n",
              "      <td>0</td>\n",
              "      <td>1</td>\n",
              "      <td>0</td>\n",
              "      <td>0</td>\n",
              "      <td>0</td>\n",
              "    </tr>\n",
              "    <tr>\n",
              "      <th>2</th>\n",
              "      <td>252</td>\n",
              "      <td>1</td>\n",
              "      <td>36868.20</td>\n",
              "      <td>1</td>\n",
              "      <td>1</td>\n",
              "      <td>2018</td>\n",
              "      <td>1</td>\n",
              "      <td>1</td>\n",
              "      <td>1</td>\n",
              "      <td>0</td>\n",
              "      <td>0</td>\n",
              "      <td>1</td>\n",
              "      <td>0</td>\n",
              "      <td>0</td>\n",
              "      <td>1</td>\n",
              "      <td>0</td>\n",
              "      <td>0</td>\n",
              "      <td>0</td>\n",
              "      <td>1</td>\n",
              "      <td>0</td>\n",
              "      <td>0</td>\n",
              "      <td>0</td>\n",
              "    </tr>\n",
              "    <tr>\n",
              "      <th>3</th>\n",
              "      <td>251</td>\n",
              "      <td>1</td>\n",
              "      <td>19715.16</td>\n",
              "      <td>1</td>\n",
              "      <td>1</td>\n",
              "      <td>2018</td>\n",
              "      <td>1</td>\n",
              "      <td>1</td>\n",
              "      <td>1</td>\n",
              "      <td>0</td>\n",
              "      <td>1</td>\n",
              "      <td>0</td>\n",
              "      <td>0</td>\n",
              "      <td>0</td>\n",
              "      <td>0</td>\n",
              "      <td>1</td>\n",
              "      <td>0</td>\n",
              "      <td>0</td>\n",
              "      <td>1</td>\n",
              "      <td>0</td>\n",
              "      <td>0</td>\n",
              "      <td>0</td>\n",
              "    </tr>\n",
              "    <tr>\n",
              "      <th>4</th>\n",
              "      <td>250</td>\n",
              "      <td>1</td>\n",
              "      <td>45614.52</td>\n",
              "      <td>1</td>\n",
              "      <td>1</td>\n",
              "      <td>2018</td>\n",
              "      <td>1</td>\n",
              "      <td>1</td>\n",
              "      <td>1</td>\n",
              "      <td>0</td>\n",
              "      <td>1</td>\n",
              "      <td>0</td>\n",
              "      <td>0</td>\n",
              "      <td>0</td>\n",
              "      <td>0</td>\n",
              "      <td>1</td>\n",
              "      <td>0</td>\n",
              "      <td>0</td>\n",
              "      <td>0</td>\n",
              "      <td>0</td>\n",
              "      <td>0</td>\n",
              "      <td>1</td>\n",
              "    </tr>\n",
              "    <tr>\n",
              "      <th>5</th>\n",
              "      <td>249</td>\n",
              "      <td>1</td>\n",
              "      <td>34211.22</td>\n",
              "      <td>1</td>\n",
              "      <td>1</td>\n",
              "      <td>2018</td>\n",
              "      <td>1</td>\n",
              "      <td>1</td>\n",
              "      <td>1</td>\n",
              "      <td>1</td>\n",
              "      <td>0</td>\n",
              "      <td>0</td>\n",
              "      <td>0</td>\n",
              "      <td>0</td>\n",
              "      <td>0</td>\n",
              "      <td>1</td>\n",
              "      <td>0</td>\n",
              "      <td>0</td>\n",
              "      <td>0</td>\n",
              "      <td>1</td>\n",
              "      <td>0</td>\n",
              "      <td>0</td>\n",
              "    </tr>\n",
              "    <tr>\n",
              "      <th>6</th>\n",
              "      <td>248</td>\n",
              "      <td>1</td>\n",
              "      <td>35352.66</td>\n",
              "      <td>1</td>\n",
              "      <td>1</td>\n",
              "      <td>2018</td>\n",
              "      <td>1</td>\n",
              "      <td>1</td>\n",
              "      <td>1</td>\n",
              "      <td>1</td>\n",
              "      <td>0</td>\n",
              "      <td>0</td>\n",
              "      <td>0</td>\n",
              "      <td>1</td>\n",
              "      <td>0</td>\n",
              "      <td>0</td>\n",
              "      <td>0</td>\n",
              "      <td>0</td>\n",
              "      <td>0</td>\n",
              "      <td>1</td>\n",
              "      <td>0</td>\n",
              "      <td>0</td>\n",
              "    </tr>\n",
              "    <tr>\n",
              "      <th>7</th>\n",
              "      <td>247</td>\n",
              "      <td>1</td>\n",
              "      <td>52650.00</td>\n",
              "      <td>1</td>\n",
              "      <td>1</td>\n",
              "      <td>2018</td>\n",
              "      <td>1</td>\n",
              "      <td>1</td>\n",
              "      <td>1</td>\n",
              "      <td>1</td>\n",
              "      <td>0</td>\n",
              "      <td>0</td>\n",
              "      <td>0</td>\n",
              "      <td>1</td>\n",
              "      <td>0</td>\n",
              "      <td>0</td>\n",
              "      <td>0</td>\n",
              "      <td>0</td>\n",
              "      <td>0</td>\n",
              "      <td>0</td>\n",
              "      <td>1</td>\n",
              "      <td>0</td>\n",
              "    </tr>\n",
              "    <tr>\n",
              "      <th>8</th>\n",
              "      <td>246</td>\n",
              "      <td>1</td>\n",
              "      <td>42633.78</td>\n",
              "      <td>1</td>\n",
              "      <td>1</td>\n",
              "      <td>2018</td>\n",
              "      <td>1</td>\n",
              "      <td>1</td>\n",
              "      <td>1</td>\n",
              "      <td>0</td>\n",
              "      <td>0</td>\n",
              "      <td>1</td>\n",
              "      <td>0</td>\n",
              "      <td>1</td>\n",
              "      <td>0</td>\n",
              "      <td>0</td>\n",
              "      <td>0</td>\n",
              "      <td>0</td>\n",
              "      <td>0</td>\n",
              "      <td>0</td>\n",
              "      <td>1</td>\n",
              "      <td>0</td>\n",
              "    </tr>\n",
              "    <tr>\n",
              "      <th>9</th>\n",
              "      <td>254</td>\n",
              "      <td>1</td>\n",
              "      <td>62572.80</td>\n",
              "      <td>1</td>\n",
              "      <td>1</td>\n",
              "      <td>2018</td>\n",
              "      <td>1</td>\n",
              "      <td>1</td>\n",
              "      <td>1</td>\n",
              "      <td>0</td>\n",
              "      <td>0</td>\n",
              "      <td>0</td>\n",
              "      <td>1</td>\n",
              "      <td>1</td>\n",
              "      <td>0</td>\n",
              "      <td>0</td>\n",
              "      <td>0</td>\n",
              "      <td>0</td>\n",
              "      <td>1</td>\n",
              "      <td>0</td>\n",
              "      <td>0</td>\n",
              "      <td>0</td>\n",
              "    </tr>\n",
              "  </tbody>\n",
              "</table>\n",
              "</div>"
            ],
            "text/plain": [
              "   Store_id  Holiday     Sales  ...  Region_Code_R2  Region_Code_R3  Region_Code_R4\n",
              "0         1        1   7011.84  ...               0               0               0\n",
              "1       253        1  51789.12  ...               0               0               0\n",
              "2       252        1  36868.20  ...               0               0               0\n",
              "3       251        1  19715.16  ...               0               0               0\n",
              "4       250        1  45614.52  ...               0               0               1\n",
              "5       249        1  34211.22  ...               1               0               0\n",
              "6       248        1  35352.66  ...               1               0               0\n",
              "7       247        1  52650.00  ...               0               1               0\n",
              "8       246        1  42633.78  ...               0               1               0\n",
              "9       254        1  62572.80  ...               0               0               0\n",
              "\n",
              "[10 rows x 22 columns]"
            ]
          },
          "metadata": {},
          "execution_count": 108
        }
      ]
    },
    {
      "cell_type": "code",
      "metadata": {
        "colab": {
          "base_uri": "https://localhost:8080/",
          "height": 379
        },
        "id": "KbCukrFEmaWR",
        "outputId": "e4db79c2-1526-496a-dbe4-2e72b190977d"
      },
      "source": [
        "train_v2.tail(10)"
      ],
      "execution_count": 109,
      "outputs": [
        {
          "output_type": "execute_result",
          "data": {
            "text/html": [
              "<div>\n",
              "<style scoped>\n",
              "    .dataframe tbody tr th:only-of-type {\n",
              "        vertical-align: middle;\n",
              "    }\n",
              "\n",
              "    .dataframe tbody tr th {\n",
              "        vertical-align: top;\n",
              "    }\n",
              "\n",
              "    .dataframe thead th {\n",
              "        text-align: right;\n",
              "    }\n",
              "</style>\n",
              "<table border=\"1\" class=\"dataframe\">\n",
              "  <thead>\n",
              "    <tr style=\"text-align: right;\">\n",
              "      <th></th>\n",
              "      <th>Store_id</th>\n",
              "      <th>Holiday</th>\n",
              "      <th>Sales</th>\n",
              "      <th>Day</th>\n",
              "      <th>Month</th>\n",
              "      <th>Year</th>\n",
              "      <th>DayOfYear</th>\n",
              "      <th>WeekOfYear</th>\n",
              "      <th>Discount_encoded</th>\n",
              "      <th>Store_Type_S1</th>\n",
              "      <th>Store_Type_S2</th>\n",
              "      <th>Store_Type_S3</th>\n",
              "      <th>Store_Type_S4</th>\n",
              "      <th>Location_Type_L1</th>\n",
              "      <th>Location_Type_L2</th>\n",
              "      <th>Location_Type_L3</th>\n",
              "      <th>Location_Type_L4</th>\n",
              "      <th>Location_Type_L5</th>\n",
              "      <th>Region_Code_R1</th>\n",
              "      <th>Region_Code_R2</th>\n",
              "      <th>Region_Code_R3</th>\n",
              "      <th>Region_Code_R4</th>\n",
              "    </tr>\n",
              "  </thead>\n",
              "  <tbody>\n",
              "    <tr>\n",
              "      <th>188330</th>\n",
              "      <td>147</td>\n",
              "      <td>1</td>\n",
              "      <td>48026.88</td>\n",
              "      <td>31</td>\n",
              "      <td>5</td>\n",
              "      <td>2019</td>\n",
              "      <td>151</td>\n",
              "      <td>22</td>\n",
              "      <td>0</td>\n",
              "      <td>0</td>\n",
              "      <td>0</td>\n",
              "      <td>0</td>\n",
              "      <td>1</td>\n",
              "      <td>0</td>\n",
              "      <td>1</td>\n",
              "      <td>0</td>\n",
              "      <td>0</td>\n",
              "      <td>0</td>\n",
              "      <td>0</td>\n",
              "      <td>0</td>\n",
              "      <td>0</td>\n",
              "      <td>1</td>\n",
              "    </tr>\n",
              "    <tr>\n",
              "      <th>188331</th>\n",
              "      <td>31</td>\n",
              "      <td>1</td>\n",
              "      <td>27760.08</td>\n",
              "      <td>31</td>\n",
              "      <td>5</td>\n",
              "      <td>2019</td>\n",
              "      <td>151</td>\n",
              "      <td>22</td>\n",
              "      <td>0</td>\n",
              "      <td>1</td>\n",
              "      <td>0</td>\n",
              "      <td>0</td>\n",
              "      <td>0</td>\n",
              "      <td>0</td>\n",
              "      <td>0</td>\n",
              "      <td>0</td>\n",
              "      <td>0</td>\n",
              "      <td>1</td>\n",
              "      <td>0</td>\n",
              "      <td>1</td>\n",
              "      <td>0</td>\n",
              "      <td>0</td>\n",
              "    </tr>\n",
              "    <tr>\n",
              "      <th>188332</th>\n",
              "      <td>150</td>\n",
              "      <td>1</td>\n",
              "      <td>86994.18</td>\n",
              "      <td>31</td>\n",
              "      <td>5</td>\n",
              "      <td>2019</td>\n",
              "      <td>151</td>\n",
              "      <td>22</td>\n",
              "      <td>1</td>\n",
              "      <td>0</td>\n",
              "      <td>0</td>\n",
              "      <td>0</td>\n",
              "      <td>1</td>\n",
              "      <td>0</td>\n",
              "      <td>1</td>\n",
              "      <td>0</td>\n",
              "      <td>0</td>\n",
              "      <td>0</td>\n",
              "      <td>1</td>\n",
              "      <td>0</td>\n",
              "      <td>0</td>\n",
              "      <td>0</td>\n",
              "    </tr>\n",
              "    <tr>\n",
              "      <th>188333</th>\n",
              "      <td>339</td>\n",
              "      <td>1</td>\n",
              "      <td>50018.34</td>\n",
              "      <td>31</td>\n",
              "      <td>5</td>\n",
              "      <td>2019</td>\n",
              "      <td>151</td>\n",
              "      <td>22</td>\n",
              "      <td>0</td>\n",
              "      <td>0</td>\n",
              "      <td>0</td>\n",
              "      <td>0</td>\n",
              "      <td>1</td>\n",
              "      <td>0</td>\n",
              "      <td>1</td>\n",
              "      <td>0</td>\n",
              "      <td>0</td>\n",
              "      <td>0</td>\n",
              "      <td>1</td>\n",
              "      <td>0</td>\n",
              "      <td>0</td>\n",
              "      <td>0</td>\n",
              "    </tr>\n",
              "    <tr>\n",
              "      <th>188334</th>\n",
              "      <td>151</td>\n",
              "      <td>1</td>\n",
              "      <td>24105.60</td>\n",
              "      <td>31</td>\n",
              "      <td>5</td>\n",
              "      <td>2019</td>\n",
              "      <td>151</td>\n",
              "      <td>22</td>\n",
              "      <td>0</td>\n",
              "      <td>1</td>\n",
              "      <td>0</td>\n",
              "      <td>0</td>\n",
              "      <td>0</td>\n",
              "      <td>0</td>\n",
              "      <td>0</td>\n",
              "      <td>1</td>\n",
              "      <td>0</td>\n",
              "      <td>0</td>\n",
              "      <td>0</td>\n",
              "      <td>1</td>\n",
              "      <td>0</td>\n",
              "      <td>0</td>\n",
              "    </tr>\n",
              "    <tr>\n",
              "      <th>188335</th>\n",
              "      <td>149</td>\n",
              "      <td>1</td>\n",
              "      <td>37272.00</td>\n",
              "      <td>31</td>\n",
              "      <td>5</td>\n",
              "      <td>2019</td>\n",
              "      <td>151</td>\n",
              "      <td>22</td>\n",
              "      <td>1</td>\n",
              "      <td>0</td>\n",
              "      <td>1</td>\n",
              "      <td>0</td>\n",
              "      <td>0</td>\n",
              "      <td>0</td>\n",
              "      <td>0</td>\n",
              "      <td>1</td>\n",
              "      <td>0</td>\n",
              "      <td>0</td>\n",
              "      <td>0</td>\n",
              "      <td>1</td>\n",
              "      <td>0</td>\n",
              "      <td>0</td>\n",
              "    </tr>\n",
              "    <tr>\n",
              "      <th>188336</th>\n",
              "      <td>153</td>\n",
              "      <td>1</td>\n",
              "      <td>54572.64</td>\n",
              "      <td>31</td>\n",
              "      <td>5</td>\n",
              "      <td>2019</td>\n",
              "      <td>151</td>\n",
              "      <td>22</td>\n",
              "      <td>0</td>\n",
              "      <td>0</td>\n",
              "      <td>0</td>\n",
              "      <td>0</td>\n",
              "      <td>1</td>\n",
              "      <td>0</td>\n",
              "      <td>1</td>\n",
              "      <td>0</td>\n",
              "      <td>0</td>\n",
              "      <td>0</td>\n",
              "      <td>1</td>\n",
              "      <td>0</td>\n",
              "      <td>0</td>\n",
              "      <td>0</td>\n",
              "    </tr>\n",
              "    <tr>\n",
              "      <th>188337</th>\n",
              "      <td>154</td>\n",
              "      <td>1</td>\n",
              "      <td>31624.56</td>\n",
              "      <td>31</td>\n",
              "      <td>5</td>\n",
              "      <td>2019</td>\n",
              "      <td>151</td>\n",
              "      <td>22</td>\n",
              "      <td>0</td>\n",
              "      <td>1</td>\n",
              "      <td>0</td>\n",
              "      <td>0</td>\n",
              "      <td>0</td>\n",
              "      <td>0</td>\n",
              "      <td>0</td>\n",
              "      <td>1</td>\n",
              "      <td>0</td>\n",
              "      <td>0</td>\n",
              "      <td>0</td>\n",
              "      <td>1</td>\n",
              "      <td>0</td>\n",
              "      <td>0</td>\n",
              "    </tr>\n",
              "    <tr>\n",
              "      <th>188338</th>\n",
              "      <td>155</td>\n",
              "      <td>1</td>\n",
              "      <td>49162.41</td>\n",
              "      <td>31</td>\n",
              "      <td>5</td>\n",
              "      <td>2019</td>\n",
              "      <td>151</td>\n",
              "      <td>22</td>\n",
              "      <td>1</td>\n",
              "      <td>0</td>\n",
              "      <td>0</td>\n",
              "      <td>1</td>\n",
              "      <td>0</td>\n",
              "      <td>1</td>\n",
              "      <td>0</td>\n",
              "      <td>0</td>\n",
              "      <td>0</td>\n",
              "      <td>0</td>\n",
              "      <td>0</td>\n",
              "      <td>1</td>\n",
              "      <td>0</td>\n",
              "      <td>0</td>\n",
              "    </tr>\n",
              "    <tr>\n",
              "      <th>188339</th>\n",
              "      <td>152</td>\n",
              "      <td>1</td>\n",
              "      <td>37977.00</td>\n",
              "      <td>31</td>\n",
              "      <td>5</td>\n",
              "      <td>2019</td>\n",
              "      <td>151</td>\n",
              "      <td>22</td>\n",
              "      <td>0</td>\n",
              "      <td>0</td>\n",
              "      <td>1</td>\n",
              "      <td>0</td>\n",
              "      <td>0</td>\n",
              "      <td>1</td>\n",
              "      <td>0</td>\n",
              "      <td>0</td>\n",
              "      <td>0</td>\n",
              "      <td>0</td>\n",
              "      <td>1</td>\n",
              "      <td>0</td>\n",
              "      <td>0</td>\n",
              "      <td>0</td>\n",
              "    </tr>\n",
              "  </tbody>\n",
              "</table>\n",
              "</div>"
            ],
            "text/plain": [
              "        Store_id  Holiday  ...  Region_Code_R3  Region_Code_R4\n",
              "188330       147        1  ...               0               1\n",
              "188331        31        1  ...               0               0\n",
              "188332       150        1  ...               0               0\n",
              "188333       339        1  ...               0               0\n",
              "188334       151        1  ...               0               0\n",
              "188335       149        1  ...               0               0\n",
              "188336       153        1  ...               0               0\n",
              "188337       154        1  ...               0               0\n",
              "188338       155        1  ...               0               0\n",
              "188339       152        1  ...               0               0\n",
              "\n",
              "[10 rows x 22 columns]"
            ]
          },
          "metadata": {},
          "execution_count": 109
        }
      ]
    },
    {
      "cell_type": "markdown",
      "metadata": {
        "id": "rtaefLx7pnxy"
      },
      "source": [
        "### Scaling"
      ]
    },
    {
      "cell_type": "code",
      "metadata": {
        "id": "-xcoQRMlrRaM"
      },
      "source": [
        "train_features = train_v2.drop('Sales', axis=1)\n",
        "train_target = train_v2['Sales']"
      ],
      "execution_count": 234,
      "outputs": []
    },
    {
      "cell_type": "code",
      "metadata": {
        "colab": {
          "base_uri": "https://localhost:8080/",
          "height": 0
        },
        "id": "e5nuxAf0ssyh",
        "outputId": "45a4f59a-9df6-4233-8fb7-f733aef6187f"
      },
      "source": [
        "test_v2.columns"
      ],
      "execution_count": 164,
      "outputs": [
        {
          "output_type": "execute_result",
          "data": {
            "text/plain": [
              "Index(['Store_id', 'Holiday', 'Day', 'Month', 'Year', 'DayOfYear',\n",
              "       'WeekOfYear', 'Discount_encoded', 'Store_Type_S1', 'Store_Type_S2',\n",
              "       'Store_Type_S3', 'Store_Type_S4', 'Location_Type_L1',\n",
              "       'Location_Type_L2', 'Location_Type_L3', 'Location_Type_L4',\n",
              "       'Location_Type_L5', 'Region_Code_R1', 'Region_Code_R2',\n",
              "       'Region_Code_R3', 'Region_Code_R4'],\n",
              "      dtype='object')"
            ]
          },
          "metadata": {},
          "execution_count": 164
        }
      ]
    },
    {
      "cell_type": "code",
      "metadata": {
        "colab": {
          "base_uri": "https://localhost:8080/",
          "height": 0
        },
        "id": "CeUWwr1ws5Jh",
        "outputId": "b121de37-8169-4eec-cb4d-5c816f186801"
      },
      "source": [
        "train_v2.columns"
      ],
      "execution_count": 165,
      "outputs": [
        {
          "output_type": "execute_result",
          "data": {
            "text/plain": [
              "Index(['Store_id', 'Holiday', 'Sales', 'Day', 'Month', 'Year', 'DayOfYear',\n",
              "       'WeekOfYear', 'Discount_encoded', 'Store_Type_S1', 'Store_Type_S2',\n",
              "       'Store_Type_S3', 'Store_Type_S4', 'Location_Type_L1',\n",
              "       'Location_Type_L2', 'Location_Type_L3', 'Location_Type_L4',\n",
              "       'Location_Type_L5', 'Region_Code_R1', 'Region_Code_R2',\n",
              "       'Region_Code_R3', 'Region_Code_R4'],\n",
              "      dtype='object')"
            ]
          },
          "metadata": {},
          "execution_count": 165
        }
      ]
    },
    {
      "cell_type": "code",
      "metadata": {
        "id": "b4Dsnbn9pqst"
      },
      "source": [
        "# fit scaler on training data\n",
        "norm = MinMaxScaler().fit(train_features)\n",
        "\n",
        "# transform training data\n",
        "X_train_norm = norm.transform(train_features)\n",
        "\n",
        "# transform testing data\n",
        "X_test_norm = norm.transform(test_v2)"
      ],
      "execution_count": 235,
      "outputs": []
    },
    {
      "cell_type": "markdown",
      "metadata": {
        "id": "w9DaSqqWsW7l"
      },
      "source": [
        "### Validating model"
      ]
    },
    {
      "cell_type": "code",
      "metadata": {
        "id": "XzqPz8wxkQv2"
      },
      "source": [
        "X_train, X_val, y_train, y_val = train_test_split(X_train_norm, train_target, test_size=0.25, random_state=42)"
      ],
      "execution_count": 237,
      "outputs": []
    },
    {
      "cell_type": "code",
      "metadata": {
        "colab": {
          "base_uri": "https://localhost:8080/",
          "height": 0
        },
        "id": "Qem8K-VqLnAx",
        "outputId": "4e24dcd3-2f8b-4a40-d9fd-9871ca05ffa9"
      },
      "source": [
        "xgbr = XGBRegressor(n_estimators = 100, \n",
        "                    early_stopping_rounds=20, \n",
        "                    eta=0.1, \n",
        "                    random_state=42, \n",
        "                    objective='reg:squarederror')\n",
        "\n",
        "xgbr.fit(X_train, y_train)"
      ],
      "execution_count": 238,
      "outputs": [
        {
          "output_type": "execute_result",
          "data": {
            "text/plain": [
              "XGBRegressor(base_score=0.5, booster='gbtree', colsample_bylevel=1,\n",
              "             colsample_bynode=1, colsample_bytree=1, early_stopping_rounds=20,\n",
              "             eta=0.1, gamma=0, importance_type='gain', learning_rate=0.1,\n",
              "             max_delta_step=0, max_depth=3, min_child_weight=1, missing=None,\n",
              "             n_estimators=100, n_jobs=1, nthread=None,\n",
              "             objective='reg:squarederror', random_state=42, reg_alpha=0,\n",
              "             reg_lambda=1, scale_pos_weight=1, seed=None, silent=None,\n",
              "             subsample=1, verbosity=1)"
            ]
          },
          "metadata": {},
          "execution_count": 238
        }
      ]
    },
    {
      "cell_type": "code",
      "metadata": {
        "colab": {
          "base_uri": "https://localhost:8080/",
          "height": 0
        },
        "id": "pOeBlkKPLvmo",
        "outputId": "8f448954-a116-4a3c-dee1-12cc5abd057d"
      },
      "source": [
        "y_pred = xgbr.predict(X_val)\n",
        "\n",
        "submission = pd.DataFrame()\n",
        "submission['Sales'] = y_pred\n",
        "\n",
        "submission['Sales'] = submission['Sales'].apply(lambda x: 0 if x<0 else x)\n",
        "\n",
        "mean_squared_log_error(y_val, submission['Sales'])*1000"
      ],
      "execution_count": 240,
      "outputs": [
        {
          "output_type": "execute_result",
          "data": {
            "text/plain": [
              "89.93119073943913"
            ]
          },
          "metadata": {},
          "execution_count": 240
        }
      ]
    },
    {
      "cell_type": "markdown",
      "metadata": {
        "id": "_uvS1wEHp1e5"
      },
      "source": [
        "### Hyperparameter tuning"
      ]
    },
    {
      "cell_type": "markdown",
      "metadata": {
        "id": "YuyUsGFgz7gn"
      },
      "source": [
        "Tuning max_depth and min_child_weight parameters"
      ]
    },
    {
      "cell_type": "code",
      "metadata": {
        "id": "i17iI-UIp00i"
      },
      "source": [
        "max_depth = [5, 6, 9, 10, 14]\n",
        "min_child_weight = [1, 3, 5, 6, 10]\n",
        "predictions = []\n",
        "\n",
        "def tune(X_train, y_train, X_test, y_test):\n",
        "  for md in max_depth:\n",
        "    for mcw in min_child_weight:\n",
        "      xgbr = XGBRegressor(n_estimators = 100, \n",
        "                          eta=0.1, \n",
        "                          random_state=42, \n",
        "                          max_depth=md, \n",
        "                          min_child_weight=mcw,\n",
        "                          objective='reg:squarederror',\n",
        "                          )\n",
        "      \n",
        "      xgbr.fit(X_train, y_train)\n",
        "      y_pred = xgbr.predict(X_test)\n",
        "      submission = pd.DataFrame()\n",
        "      submission['Sales'] = y_pred\n",
        "      submission['Sales'] = submission['Sales'].apply(lambda x: 0 if x<0 else x)\n",
        "      msle = mean_squared_log_error(y_test, submission['Sales'])*1000\n",
        "      print(\"max_depth= \", md, \", min_child_weight= \", mcw, \", msle= \", msle)"
      ],
      "execution_count": 245,
      "outputs": []
    },
    {
      "cell_type": "code",
      "metadata": {
        "colab": {
          "base_uri": "https://localhost:8080/",
          "height": 0
        },
        "id": "cTkkhxDTq8T5",
        "outputId": "c4d5fd4d-9e1d-46b7-c17b-82b4af7cf0e6"
      },
      "source": [
        "tune(X_train, y_train, X_val, y_val)"
      ],
      "execution_count": 246,
      "outputs": [
        {
          "output_type": "stream",
          "name": "stdout",
          "text": [
            "max_depth=  5 , min_child_weight=  1 , msle=  64.90924076482281\n",
            "max_depth=  5 , min_child_weight=  3 , msle=  65.0380787571291\n",
            "max_depth=  5 , min_child_weight=  5 , msle=  64.81151844578359\n",
            "max_depth=  5 , min_child_weight=  6 , msle=  65.07946671580174\n",
            "max_depth=  5 , min_child_weight=  10 , msle=  60.59291636453853\n",
            "max_depth=  6 , min_child_weight=  1 , msle=  57.160622107631895\n",
            "max_depth=  6 , min_child_weight=  3 , msle=  56.37021729990238\n",
            "max_depth=  6 , min_child_weight=  5 , msle=  56.182396030922646\n",
            "max_depth=  6 , min_child_weight=  6 , msle=  58.439139329362334\n",
            "max_depth=  6 , min_child_weight=  10 , msle=  54.567119810455154\n",
            "max_depth=  9 , min_child_weight=  1 , msle=  41.87465433640932\n",
            "max_depth=  9 , min_child_weight=  3 , msle=  41.39439736196112\n",
            "max_depth=  9 , min_child_weight=  5 , msle=  43.04246371796265\n",
            "max_depth=  9 , min_child_weight=  6 , msle=  47.63992720400196\n",
            "max_depth=  9 , min_child_weight=  10 , msle=  49.41746861716063\n",
            "max_depth=  10 , min_child_weight=  1 , msle=  45.47825437166826\n",
            "max_depth=  10 , min_child_weight=  3 , msle=  42.43134487704084\n",
            "max_depth=  10 , min_child_weight=  5 , msle=  44.790828125578585\n",
            "max_depth=  10 , min_child_weight=  6 , msle=  47.535111069726845\n",
            "max_depth=  10 , min_child_weight=  10 , msle=  54.53706937118335\n",
            "max_depth=  14 , min_child_weight=  1 , msle=  38.40793682458004\n",
            "max_depth=  14 , min_child_weight=  3 , msle=  45.14777727759124\n",
            "max_depth=  14 , min_child_weight=  5 , msle=  48.31446672745758\n",
            "max_depth=  14 , min_child_weight=  6 , msle=  47.99957285622235\n",
            "max_depth=  14 , min_child_weight=  10 , msle=  51.214440067922084\n"
          ]
        }
      ]
    },
    {
      "cell_type": "markdown",
      "metadata": {
        "id": "UkMnN8hguug_"
      },
      "source": [
        "SELECTED:\n",
        "\n",
        "max_depth = 14\n",
        "\n",
        "min_child_weight = 1"
      ]
    },
    {
      "cell_type": "markdown",
      "metadata": {
        "id": "y7r4BY6X0Eyy"
      },
      "source": [
        "Tuning subsample and cosample_bytree parameters"
      ]
    },
    {
      "cell_type": "code",
      "metadata": {
        "id": "OayiMfKauO6b"
      },
      "source": [
        "subsample = [1, 0.8, 0.6, 0.3]\n",
        "cosample_bytree = [1, 0.8, 0.6, 0.3]\n",
        "predictions = []\n",
        "\n",
        "def tune_more(X_train, y_train, X_test, y_test):\n",
        "  for sb in subsample:\n",
        "    for cb in cosample_bytree:\n",
        "      xgbr = XGBRegressor(n_estimators = 100,\n",
        "                          eta=0.1, \n",
        "                          random_state=42, \n",
        "                          max_depth=14, \n",
        "                          min_child_weight=1,\n",
        "                          subsample=sb, \n",
        "                          cosample_bytree=cb,\n",
        "                          objective='reg:squarederror'\n",
        "                          )\n",
        "      \n",
        "      xgbr.fit(X_train, y_train)\n",
        "      y_pred = xgbr.predict(X_test)\n",
        "      submission = pd.DataFrame()\n",
        "      submission['Sales'] = y_pred\n",
        "      submission['Sales'] = submission['Sales'].apply(lambda x: 0 if x<0 else x)\n",
        "      msle = mean_squared_log_error(y_test, submission['Sales'])*1000\n",
        "      print(\"subsample= \", sb, \", cosample_bytree= \", cb, \", msle= \", msle)"
      ],
      "execution_count": 247,
      "outputs": []
    },
    {
      "cell_type": "code",
      "metadata": {
        "colab": {
          "base_uri": "https://localhost:8080/",
          "height": 0
        },
        "id": "nCNo_RFjvOGE",
        "outputId": "6fa14792-21f0-46f1-bf68-47683d6c95f4"
      },
      "source": [
        "tune_more(X_train, y_train, X_val, y_val)"
      ],
      "execution_count": 248,
      "outputs": [
        {
          "output_type": "stream",
          "name": "stdout",
          "text": [
            "subsample=  1 , cosample_bytree=  1 , msle=  38.40793682458004\n",
            "subsample=  1 , cosample_bytree=  0.8 , msle=  38.40793682458004\n",
            "subsample=  1 , cosample_bytree=  0.6 , msle=  38.40793682458004\n",
            "subsample=  1 , cosample_bytree=  0.3 , msle=  38.40793682458004\n",
            "subsample=  0.8 , cosample_bytree=  1 , msle=  39.3406112674161\n",
            "subsample=  0.8 , cosample_bytree=  0.8 , msle=  39.3406112674161\n",
            "subsample=  0.8 , cosample_bytree=  0.6 , msle=  39.3406112674161\n",
            "subsample=  0.8 , cosample_bytree=  0.3 , msle=  39.3406112674161\n",
            "subsample=  0.6 , cosample_bytree=  1 , msle=  41.607854594407584\n",
            "subsample=  0.6 , cosample_bytree=  0.8 , msle=  41.607854594407584\n",
            "subsample=  0.6 , cosample_bytree=  0.6 , msle=  41.607854594407584\n",
            "subsample=  0.6 , cosample_bytree=  0.3 , msle=  41.607854594407584\n",
            "subsample=  0.3 , cosample_bytree=  1 , msle=  43.316567559765886\n",
            "subsample=  0.3 , cosample_bytree=  0.8 , msle=  43.316567559765886\n",
            "subsample=  0.3 , cosample_bytree=  0.6 , msle=  43.316567559765886\n",
            "subsample=  0.3 , cosample_bytree=  0.3 , msle=  43.316567559765886\n"
          ]
        }
      ]
    },
    {
      "cell_type": "markdown",
      "metadata": {
        "id": "uD378adh0V8h"
      },
      "source": [
        "cosample_bytree doesn't make any change.\n",
        "\n",
        "SELECTED:\n",
        "\n",
        "subsample = 1"
      ]
    },
    {
      "cell_type": "markdown",
      "metadata": {
        "id": "IJJPoijV0OdX"
      },
      "source": [
        "Tuning the alpha parameter"
      ]
    },
    {
      "cell_type": "code",
      "metadata": {
        "id": "x0OMOj0E0SLE"
      },
      "source": [
        "alpha = [0.5, 0.3, 0.2, 0.1, 0.05]\n",
        "predictions = []\n",
        "\n",
        "def tune_alpha(X_train, y_train, X_test, y_test):\n",
        "  for a in alpha:\n",
        "    xgbr = XGBRegressor(n_estimators = 100, \n",
        "                        eta=0.1, random_state=42, \n",
        "                        max_depth=14, \n",
        "                        reg_alpha= a,\n",
        "                        objective='reg:squarederror'\n",
        "                        )\n",
        "      \n",
        "    xgbr.fit(X_train, y_train)\n",
        "    y_pred = xgbr.predict(X_test)\n",
        "    submission = pd.DataFrame()\n",
        "    submission['Sales'] = y_pred\n",
        "    submission['Sales'] = submission['Sales'].apply(lambda x: 0 if x<0 else x)\n",
        "    msle = mean_squared_log_error(y_test, submission['Sales'])*1000\n",
        "    print(\"alpha= \", a, \", msle= \", msle)"
      ],
      "execution_count": 251,
      "outputs": []
    },
    {
      "cell_type": "code",
      "metadata": {
        "id": "dkag_hlE2lHn"
      },
      "source": [
        "tune_alpha(X_train, y_train, X_val, y_val)"
      ],
      "execution_count": 252,
      "outputs": []
    },
    {
      "cell_type": "markdown",
      "metadata": {
        "id": "1nf1j8Mg10lz"
      },
      "source": [
        "The alpha value doesn't make any changes, so we will keep the default one."
      ]
    },
    {
      "cell_type": "markdown",
      "metadata": {
        "id": "ybwxKkCs200p"
      },
      "source": [
        "### Final model with selected parameters"
      ]
    },
    {
      "cell_type": "code",
      "metadata": {
        "id": "j2kUxvrrmyLP"
      },
      "source": [
        "xgbr = XGBRegressor(n_estimators = 100, \n",
        "                    eta=0.1, \n",
        "                    random_state=42, \n",
        "                    max_depth=14, \n",
        "                    objective='reg:squarederror')\n",
        "\n",
        "xgbr.fit(X_train, y_train)"
      ],
      "execution_count": 253,
      "outputs": []
    },
    {
      "cell_type": "code",
      "metadata": {
        "id": "T1_hyqsVmjy-"
      },
      "source": [
        "y_pred = xgbr.predict(X_val)\n",
        "\n",
        "submission = pd.DataFrame()\n",
        "submission['Sales'] = y_pred\n",
        "\n",
        "submission['Sales'] = submission['Sales'].apply(lambda x: 0 if x<0 else x)\n",
        "\n",
        "mean_squared_log_error(y_val, submission['Sales'])*1000"
      ],
      "execution_count": null,
      "outputs": []
    },
    {
      "cell_type": "markdown",
      "metadata": {
        "id": "8PYy6Lm4lb7j"
      },
      "source": [
        "## Getting final predictions for the given test dataset\n"
      ]
    },
    {
      "cell_type": "code",
      "metadata": {
        "id": "oJjpXWmonib1"
      },
      "source": [
        "xgbr = XGBRegressor(random_state=42,\n",
        "                      max_depth= 14,\n",
        "                      objective='reg:squarederror')\n",
        "\n",
        "xgbr.fit(X_train_norm, train_target)\n",
        "\n",
        "final_predictions = xgbr.predict(X_test_norm)"
      ],
      "execution_count": null,
      "outputs": []
    },
    {
      "cell_type": "code",
      "metadata": {
        "id": "mzj0ZkHq7Vig"
      },
      "source": [
        "rounded = [np.round(x) for x in final_predictions]"
      ],
      "execution_count": null,
      "outputs": []
    },
    {
      "cell_type": "code",
      "metadata": {
        "id": "J1XqCutwmwgV"
      },
      "source": [
        "submission = pd.DataFrame()\n",
        "\n",
        "submission[\"ID\"] = test[\"ID\"]\n",
        "\n",
        "# creating a Sales column and saving the predictions in it\n",
        "submission['Sales'] = rounded\n",
        "submission['Sales'] = submission['Sales'].apply(lambda x: 0 if x<0 else x)\n",
        "\n",
        "submission.to_csv('final_submission.csv', header=True, index=False)"
      ],
      "execution_count": null,
      "outputs": []
    }
  ]
}